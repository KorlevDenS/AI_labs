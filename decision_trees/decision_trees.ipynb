{
 "cells": [
  {
   "cell_type": "markdown",
   "source": [
    "Библиотеки для работы с данными и математикой"
   ],
   "metadata": {
    "collapsed": false
   },
   "id": "20762e143f1a76d"
  },
  {
   "cell_type": "code",
   "execution_count": 292,
   "id": "initial_id",
   "metadata": {
    "collapsed": true,
    "ExecuteTime": {
     "end_time": "2023-12-17T09:15:55.554948Z",
     "start_time": "2023-12-17T09:15:55.307030Z"
    }
   },
   "outputs": [],
   "source": [
    "import pandas as pd\n",
    "import numpy as np\n",
    "from matplotlib import pyplot as plt\n",
    "import random\n",
    "import math\n",
    "import seaborn as sn"
   ]
  },
  {
   "cell_type": "markdown",
   "source": [
    "Получение данных из файла"
   ],
   "metadata": {
    "collapsed": false
   },
   "id": "9534c30f6505c2d9"
  },
  {
   "cell_type": "code",
   "execution_count": 293,
   "outputs": [
    {
     "data": {
      "text/plain": "     STUDENT ID  1  2  3  4  5  6  7  8  9  ...  23  24  25  26  27  28  29  \\\n0      STUDENT1  2  2  3  3  1  2  2  1  1  ...   1   1   3   2   1   2   1   \n1      STUDENT2  2  2  3  3  1  2  2  1  1  ...   1   1   3   2   3   2   2   \n2      STUDENT3  2  2  2  3  2  2  2  2  4  ...   1   1   2   2   1   1   2   \n3      STUDENT4  1  1  1  3  1  2  1  2  1  ...   1   2   3   2   2   1   3   \n4      STUDENT5  2  2  1  3  2  2  1  3  1  ...   2   1   2   2   2   1   2   \n..          ... .. .. .. .. .. .. .. .. ..  ...  ..  ..  ..  ..  ..  ..  ..   \n140  STUDENT141  2  1  2  3  1  1  2  1  1  ...   1   1   2   1   2   1   3   \n141  STUDENT142  1  1  2  4  2  2  2  1  4  ...   1   1   3   2   2   1   5   \n142  STUDENT143  1  1  1  4  2  2  2  1  1  ...   1   1   3   3   2   1   4   \n143  STUDENT144  2  1  2  4  1  1  1  5  2  ...   2   1   2   1   2   1   5   \n144  STUDENT145  1  1  1  5  2  2  2  3  1  ...   2   1   3   2   3   1   5   \n\n     30  COURSE ID  GRADE  \n0     1          1      1  \n1     3          1      1  \n2     2          1      1  \n3     2          1      1  \n4     2          1      1  \n..   ..        ...    ...  \n140   3          9      5  \n141   3          9      5  \n142   3          9      1  \n143   3          9      4  \n144   4          9      3  \n\n[145 rows x 33 columns]",
      "text/html": "<div>\n<style scoped>\n    .dataframe tbody tr th:only-of-type {\n        vertical-align: middle;\n    }\n\n    .dataframe tbody tr th {\n        vertical-align: top;\n    }\n\n    .dataframe thead th {\n        text-align: right;\n    }\n</style>\n<table border=\"1\" class=\"dataframe\">\n  <thead>\n    <tr style=\"text-align: right;\">\n      <th></th>\n      <th>STUDENT ID</th>\n      <th>1</th>\n      <th>2</th>\n      <th>3</th>\n      <th>4</th>\n      <th>5</th>\n      <th>6</th>\n      <th>7</th>\n      <th>8</th>\n      <th>9</th>\n      <th>...</th>\n      <th>23</th>\n      <th>24</th>\n      <th>25</th>\n      <th>26</th>\n      <th>27</th>\n      <th>28</th>\n      <th>29</th>\n      <th>30</th>\n      <th>COURSE ID</th>\n      <th>GRADE</th>\n    </tr>\n  </thead>\n  <tbody>\n    <tr>\n      <th>0</th>\n      <td>STUDENT1</td>\n      <td>2</td>\n      <td>2</td>\n      <td>3</td>\n      <td>3</td>\n      <td>1</td>\n      <td>2</td>\n      <td>2</td>\n      <td>1</td>\n      <td>1</td>\n      <td>...</td>\n      <td>1</td>\n      <td>1</td>\n      <td>3</td>\n      <td>2</td>\n      <td>1</td>\n      <td>2</td>\n      <td>1</td>\n      <td>1</td>\n      <td>1</td>\n      <td>1</td>\n    </tr>\n    <tr>\n      <th>1</th>\n      <td>STUDENT2</td>\n      <td>2</td>\n      <td>2</td>\n      <td>3</td>\n      <td>3</td>\n      <td>1</td>\n      <td>2</td>\n      <td>2</td>\n      <td>1</td>\n      <td>1</td>\n      <td>...</td>\n      <td>1</td>\n      <td>1</td>\n      <td>3</td>\n      <td>2</td>\n      <td>3</td>\n      <td>2</td>\n      <td>2</td>\n      <td>3</td>\n      <td>1</td>\n      <td>1</td>\n    </tr>\n    <tr>\n      <th>2</th>\n      <td>STUDENT3</td>\n      <td>2</td>\n      <td>2</td>\n      <td>2</td>\n      <td>3</td>\n      <td>2</td>\n      <td>2</td>\n      <td>2</td>\n      <td>2</td>\n      <td>4</td>\n      <td>...</td>\n      <td>1</td>\n      <td>1</td>\n      <td>2</td>\n      <td>2</td>\n      <td>1</td>\n      <td>1</td>\n      <td>2</td>\n      <td>2</td>\n      <td>1</td>\n      <td>1</td>\n    </tr>\n    <tr>\n      <th>3</th>\n      <td>STUDENT4</td>\n      <td>1</td>\n      <td>1</td>\n      <td>1</td>\n      <td>3</td>\n      <td>1</td>\n      <td>2</td>\n      <td>1</td>\n      <td>2</td>\n      <td>1</td>\n      <td>...</td>\n      <td>1</td>\n      <td>2</td>\n      <td>3</td>\n      <td>2</td>\n      <td>2</td>\n      <td>1</td>\n      <td>3</td>\n      <td>2</td>\n      <td>1</td>\n      <td>1</td>\n    </tr>\n    <tr>\n      <th>4</th>\n      <td>STUDENT5</td>\n      <td>2</td>\n      <td>2</td>\n      <td>1</td>\n      <td>3</td>\n      <td>2</td>\n      <td>2</td>\n      <td>1</td>\n      <td>3</td>\n      <td>1</td>\n      <td>...</td>\n      <td>2</td>\n      <td>1</td>\n      <td>2</td>\n      <td>2</td>\n      <td>2</td>\n      <td>1</td>\n      <td>2</td>\n      <td>2</td>\n      <td>1</td>\n      <td>1</td>\n    </tr>\n    <tr>\n      <th>...</th>\n      <td>...</td>\n      <td>...</td>\n      <td>...</td>\n      <td>...</td>\n      <td>...</td>\n      <td>...</td>\n      <td>...</td>\n      <td>...</td>\n      <td>...</td>\n      <td>...</td>\n      <td>...</td>\n      <td>...</td>\n      <td>...</td>\n      <td>...</td>\n      <td>...</td>\n      <td>...</td>\n      <td>...</td>\n      <td>...</td>\n      <td>...</td>\n      <td>...</td>\n      <td>...</td>\n    </tr>\n    <tr>\n      <th>140</th>\n      <td>STUDENT141</td>\n      <td>2</td>\n      <td>1</td>\n      <td>2</td>\n      <td>3</td>\n      <td>1</td>\n      <td>1</td>\n      <td>2</td>\n      <td>1</td>\n      <td>1</td>\n      <td>...</td>\n      <td>1</td>\n      <td>1</td>\n      <td>2</td>\n      <td>1</td>\n      <td>2</td>\n      <td>1</td>\n      <td>3</td>\n      <td>3</td>\n      <td>9</td>\n      <td>5</td>\n    </tr>\n    <tr>\n      <th>141</th>\n      <td>STUDENT142</td>\n      <td>1</td>\n      <td>1</td>\n      <td>2</td>\n      <td>4</td>\n      <td>2</td>\n      <td>2</td>\n      <td>2</td>\n      <td>1</td>\n      <td>4</td>\n      <td>...</td>\n      <td>1</td>\n      <td>1</td>\n      <td>3</td>\n      <td>2</td>\n      <td>2</td>\n      <td>1</td>\n      <td>5</td>\n      <td>3</td>\n      <td>9</td>\n      <td>5</td>\n    </tr>\n    <tr>\n      <th>142</th>\n      <td>STUDENT143</td>\n      <td>1</td>\n      <td>1</td>\n      <td>1</td>\n      <td>4</td>\n      <td>2</td>\n      <td>2</td>\n      <td>2</td>\n      <td>1</td>\n      <td>1</td>\n      <td>...</td>\n      <td>1</td>\n      <td>1</td>\n      <td>3</td>\n      <td>3</td>\n      <td>2</td>\n      <td>1</td>\n      <td>4</td>\n      <td>3</td>\n      <td>9</td>\n      <td>1</td>\n    </tr>\n    <tr>\n      <th>143</th>\n      <td>STUDENT144</td>\n      <td>2</td>\n      <td>1</td>\n      <td>2</td>\n      <td>4</td>\n      <td>1</td>\n      <td>1</td>\n      <td>1</td>\n      <td>5</td>\n      <td>2</td>\n      <td>...</td>\n      <td>2</td>\n      <td>1</td>\n      <td>2</td>\n      <td>1</td>\n      <td>2</td>\n      <td>1</td>\n      <td>5</td>\n      <td>3</td>\n      <td>9</td>\n      <td>4</td>\n    </tr>\n    <tr>\n      <th>144</th>\n      <td>STUDENT145</td>\n      <td>1</td>\n      <td>1</td>\n      <td>1</td>\n      <td>5</td>\n      <td>2</td>\n      <td>2</td>\n      <td>2</td>\n      <td>3</td>\n      <td>1</td>\n      <td>...</td>\n      <td>2</td>\n      <td>1</td>\n      <td>3</td>\n      <td>2</td>\n      <td>3</td>\n      <td>1</td>\n      <td>5</td>\n      <td>4</td>\n      <td>9</td>\n      <td>3</td>\n    </tr>\n  </tbody>\n</table>\n<p>145 rows × 33 columns</p>\n</div>"
     },
     "execution_count": 293,
     "metadata": {},
     "output_type": "execute_result"
    }
   ],
   "source": [
    "df = pd.read_csv('../resources/Higher_Education_Students_Performance_Evaluation.csv')\n",
    "df"
   ],
   "metadata": {
    "collapsed": false,
    "ExecuteTime": {
     "end_time": "2023-12-17T09:15:55.592936700Z",
     "start_time": "2023-12-17T09:15:55.544957300Z"
    }
   },
   "id": "8f34065e521146be"
  },
  {
   "cell_type": "markdown",
   "source": [
    "Добавляем метрику SUCCESS по зданию: студент успешный/неуспешный на основании грейда"
   ],
   "metadata": {
    "collapsed": false
   },
   "id": "5cef9039d0eb9cf5"
  },
  {
   "cell_type": "code",
   "execution_count": 294,
   "outputs": [
    {
     "data": {
      "text/plain": "     STUDENT ID  1  2  3  4  5  6  7  8  9  ...  24  25  26  27  28  29  30  \\\n0      STUDENT1  2  2  3  3  1  2  2  1  1  ...   1   3   2   1   2   1   1   \n1      STUDENT2  2  2  3  3  1  2  2  1  1  ...   1   3   2   3   2   2   3   \n2      STUDENT3  2  2  2  3  2  2  2  2  4  ...   1   2   2   1   1   2   2   \n3      STUDENT4  1  1  1  3  1  2  1  2  1  ...   2   3   2   2   1   3   2   \n4      STUDENT5  2  2  1  3  2  2  1  3  1  ...   1   2   2   2   1   2   2   \n..          ... .. .. .. .. .. .. .. .. ..  ...  ..  ..  ..  ..  ..  ..  ..   \n140  STUDENT141  2  1  2  3  1  1  2  1  1  ...   1   2   1   2   1   3   3   \n141  STUDENT142  1  1  2  4  2  2  2  1  4  ...   1   3   2   2   1   5   3   \n142  STUDENT143  1  1  1  4  2  2  2  1  1  ...   1   3   3   2   1   4   3   \n143  STUDENT144  2  1  2  4  1  1  1  5  2  ...   1   2   1   2   1   5   3   \n144  STUDENT145  1  1  1  5  2  2  2  3  1  ...   1   3   2   3   1   5   4   \n\n     COURSE ID  GRADE  SUCCESS  \n0            1      1        0  \n1            1      1        0  \n2            1      1        0  \n3            1      1        0  \n4            1      1        0  \n..         ...    ...      ...  \n140          9      5        1  \n141          9      5        1  \n142          9      1        0  \n143          9      4        1  \n144          9      3        0  \n\n[145 rows x 34 columns]",
      "text/html": "<div>\n<style scoped>\n    .dataframe tbody tr th:only-of-type {\n        vertical-align: middle;\n    }\n\n    .dataframe tbody tr th {\n        vertical-align: top;\n    }\n\n    .dataframe thead th {\n        text-align: right;\n    }\n</style>\n<table border=\"1\" class=\"dataframe\">\n  <thead>\n    <tr style=\"text-align: right;\">\n      <th></th>\n      <th>STUDENT ID</th>\n      <th>1</th>\n      <th>2</th>\n      <th>3</th>\n      <th>4</th>\n      <th>5</th>\n      <th>6</th>\n      <th>7</th>\n      <th>8</th>\n      <th>9</th>\n      <th>...</th>\n      <th>24</th>\n      <th>25</th>\n      <th>26</th>\n      <th>27</th>\n      <th>28</th>\n      <th>29</th>\n      <th>30</th>\n      <th>COURSE ID</th>\n      <th>GRADE</th>\n      <th>SUCCESS</th>\n    </tr>\n  </thead>\n  <tbody>\n    <tr>\n      <th>0</th>\n      <td>STUDENT1</td>\n      <td>2</td>\n      <td>2</td>\n      <td>3</td>\n      <td>3</td>\n      <td>1</td>\n      <td>2</td>\n      <td>2</td>\n      <td>1</td>\n      <td>1</td>\n      <td>...</td>\n      <td>1</td>\n      <td>3</td>\n      <td>2</td>\n      <td>1</td>\n      <td>2</td>\n      <td>1</td>\n      <td>1</td>\n      <td>1</td>\n      <td>1</td>\n      <td>0</td>\n    </tr>\n    <tr>\n      <th>1</th>\n      <td>STUDENT2</td>\n      <td>2</td>\n      <td>2</td>\n      <td>3</td>\n      <td>3</td>\n      <td>1</td>\n      <td>2</td>\n      <td>2</td>\n      <td>1</td>\n      <td>1</td>\n      <td>...</td>\n      <td>1</td>\n      <td>3</td>\n      <td>2</td>\n      <td>3</td>\n      <td>2</td>\n      <td>2</td>\n      <td>3</td>\n      <td>1</td>\n      <td>1</td>\n      <td>0</td>\n    </tr>\n    <tr>\n      <th>2</th>\n      <td>STUDENT3</td>\n      <td>2</td>\n      <td>2</td>\n      <td>2</td>\n      <td>3</td>\n      <td>2</td>\n      <td>2</td>\n      <td>2</td>\n      <td>2</td>\n      <td>4</td>\n      <td>...</td>\n      <td>1</td>\n      <td>2</td>\n      <td>2</td>\n      <td>1</td>\n      <td>1</td>\n      <td>2</td>\n      <td>2</td>\n      <td>1</td>\n      <td>1</td>\n      <td>0</td>\n    </tr>\n    <tr>\n      <th>3</th>\n      <td>STUDENT4</td>\n      <td>1</td>\n      <td>1</td>\n      <td>1</td>\n      <td>3</td>\n      <td>1</td>\n      <td>2</td>\n      <td>1</td>\n      <td>2</td>\n      <td>1</td>\n      <td>...</td>\n      <td>2</td>\n      <td>3</td>\n      <td>2</td>\n      <td>2</td>\n      <td>1</td>\n      <td>3</td>\n      <td>2</td>\n      <td>1</td>\n      <td>1</td>\n      <td>0</td>\n    </tr>\n    <tr>\n      <th>4</th>\n      <td>STUDENT5</td>\n      <td>2</td>\n      <td>2</td>\n      <td>1</td>\n      <td>3</td>\n      <td>2</td>\n      <td>2</td>\n      <td>1</td>\n      <td>3</td>\n      <td>1</td>\n      <td>...</td>\n      <td>1</td>\n      <td>2</td>\n      <td>2</td>\n      <td>2</td>\n      <td>1</td>\n      <td>2</td>\n      <td>2</td>\n      <td>1</td>\n      <td>1</td>\n      <td>0</td>\n    </tr>\n    <tr>\n      <th>...</th>\n      <td>...</td>\n      <td>...</td>\n      <td>...</td>\n      <td>...</td>\n      <td>...</td>\n      <td>...</td>\n      <td>...</td>\n      <td>...</td>\n      <td>...</td>\n      <td>...</td>\n      <td>...</td>\n      <td>...</td>\n      <td>...</td>\n      <td>...</td>\n      <td>...</td>\n      <td>...</td>\n      <td>...</td>\n      <td>...</td>\n      <td>...</td>\n      <td>...</td>\n      <td>...</td>\n    </tr>\n    <tr>\n      <th>140</th>\n      <td>STUDENT141</td>\n      <td>2</td>\n      <td>1</td>\n      <td>2</td>\n      <td>3</td>\n      <td>1</td>\n      <td>1</td>\n      <td>2</td>\n      <td>1</td>\n      <td>1</td>\n      <td>...</td>\n      <td>1</td>\n      <td>2</td>\n      <td>1</td>\n      <td>2</td>\n      <td>1</td>\n      <td>3</td>\n      <td>3</td>\n      <td>9</td>\n      <td>5</td>\n      <td>1</td>\n    </tr>\n    <tr>\n      <th>141</th>\n      <td>STUDENT142</td>\n      <td>1</td>\n      <td>1</td>\n      <td>2</td>\n      <td>4</td>\n      <td>2</td>\n      <td>2</td>\n      <td>2</td>\n      <td>1</td>\n      <td>4</td>\n      <td>...</td>\n      <td>1</td>\n      <td>3</td>\n      <td>2</td>\n      <td>2</td>\n      <td>1</td>\n      <td>5</td>\n      <td>3</td>\n      <td>9</td>\n      <td>5</td>\n      <td>1</td>\n    </tr>\n    <tr>\n      <th>142</th>\n      <td>STUDENT143</td>\n      <td>1</td>\n      <td>1</td>\n      <td>1</td>\n      <td>4</td>\n      <td>2</td>\n      <td>2</td>\n      <td>2</td>\n      <td>1</td>\n      <td>1</td>\n      <td>...</td>\n      <td>1</td>\n      <td>3</td>\n      <td>3</td>\n      <td>2</td>\n      <td>1</td>\n      <td>4</td>\n      <td>3</td>\n      <td>9</td>\n      <td>1</td>\n      <td>0</td>\n    </tr>\n    <tr>\n      <th>143</th>\n      <td>STUDENT144</td>\n      <td>2</td>\n      <td>1</td>\n      <td>2</td>\n      <td>4</td>\n      <td>1</td>\n      <td>1</td>\n      <td>1</td>\n      <td>5</td>\n      <td>2</td>\n      <td>...</td>\n      <td>1</td>\n      <td>2</td>\n      <td>1</td>\n      <td>2</td>\n      <td>1</td>\n      <td>5</td>\n      <td>3</td>\n      <td>9</td>\n      <td>4</td>\n      <td>1</td>\n    </tr>\n    <tr>\n      <th>144</th>\n      <td>STUDENT145</td>\n      <td>1</td>\n      <td>1</td>\n      <td>1</td>\n      <td>5</td>\n      <td>2</td>\n      <td>2</td>\n      <td>2</td>\n      <td>3</td>\n      <td>1</td>\n      <td>...</td>\n      <td>1</td>\n      <td>3</td>\n      <td>2</td>\n      <td>3</td>\n      <td>1</td>\n      <td>5</td>\n      <td>4</td>\n      <td>9</td>\n      <td>3</td>\n      <td>0</td>\n    </tr>\n  </tbody>\n</table>\n<p>145 rows × 34 columns</p>\n</div>"
     },
     "execution_count": 294,
     "metadata": {},
     "output_type": "execute_result"
    }
   ],
   "source": [
    "df['SUCCESS'] = df['GRADE'] > 3\n",
    "df['SUCCESS'] = df['SUCCESS'].astype(int)\n",
    "df"
   ],
   "metadata": {
    "collapsed": false,
    "ExecuteTime": {
     "end_time": "2023-12-17T09:15:55.669910800Z",
     "start_time": "2023-12-17T09:15:55.591937400Z"
    }
   },
   "id": "cbec5d26adda6dfb"
  },
  {
   "cell_type": "markdown",
   "source": [
    "Удалим столбец с номером, так как признаком он не является"
   ],
   "metadata": {
    "collapsed": false
   },
   "id": "9ca9684132c70871"
  },
  {
   "cell_type": "code",
   "execution_count": 295,
   "outputs": [
    {
     "data": {
      "text/plain": "     1  2  3  4  5  6  7  8  9  10  ...  24  25  26  27  28  29  30  \\\n0    2  2  3  3  1  2  2  1  1   1  ...   1   3   2   1   2   1   1   \n1    2  2  3  3  1  2  2  1  1   1  ...   1   3   2   3   2   2   3   \n2    2  2  2  3  2  2  2  2  4   2  ...   1   2   2   1   1   2   2   \n3    1  1  1  3  1  2  1  2  1   2  ...   2   3   2   2   1   3   2   \n4    2  2  1  3  2  2  1  3  1   4  ...   1   2   2   2   1   2   2   \n..  .. .. .. .. .. .. .. .. ..  ..  ...  ..  ..  ..  ..  ..  ..  ..   \n140  2  1  2  3  1  1  2  1  1   2  ...   1   2   1   2   1   3   3   \n141  1  1  2  4  2  2  2  1  4   2  ...   1   3   2   2   1   5   3   \n142  1  1  1  4  2  2  2  1  1   1  ...   1   3   3   2   1   4   3   \n143  2  1  2  4  1  1  1  5  2   3  ...   1   2   1   2   1   5   3   \n144  1  1  1  5  2  2  2  3  1   1  ...   1   3   2   3   1   5   4   \n\n     COURSE ID  GRADE  SUCCESS  \n0            1      1        0  \n1            1      1        0  \n2            1      1        0  \n3            1      1        0  \n4            1      1        0  \n..         ...    ...      ...  \n140          9      5        1  \n141          9      5        1  \n142          9      1        0  \n143          9      4        1  \n144          9      3        0  \n\n[145 rows x 33 columns]",
      "text/html": "<div>\n<style scoped>\n    .dataframe tbody tr th:only-of-type {\n        vertical-align: middle;\n    }\n\n    .dataframe tbody tr th {\n        vertical-align: top;\n    }\n\n    .dataframe thead th {\n        text-align: right;\n    }\n</style>\n<table border=\"1\" class=\"dataframe\">\n  <thead>\n    <tr style=\"text-align: right;\">\n      <th></th>\n      <th>1</th>\n      <th>2</th>\n      <th>3</th>\n      <th>4</th>\n      <th>5</th>\n      <th>6</th>\n      <th>7</th>\n      <th>8</th>\n      <th>9</th>\n      <th>10</th>\n      <th>...</th>\n      <th>24</th>\n      <th>25</th>\n      <th>26</th>\n      <th>27</th>\n      <th>28</th>\n      <th>29</th>\n      <th>30</th>\n      <th>COURSE ID</th>\n      <th>GRADE</th>\n      <th>SUCCESS</th>\n    </tr>\n  </thead>\n  <tbody>\n    <tr>\n      <th>0</th>\n      <td>2</td>\n      <td>2</td>\n      <td>3</td>\n      <td>3</td>\n      <td>1</td>\n      <td>2</td>\n      <td>2</td>\n      <td>1</td>\n      <td>1</td>\n      <td>1</td>\n      <td>...</td>\n      <td>1</td>\n      <td>3</td>\n      <td>2</td>\n      <td>1</td>\n      <td>2</td>\n      <td>1</td>\n      <td>1</td>\n      <td>1</td>\n      <td>1</td>\n      <td>0</td>\n    </tr>\n    <tr>\n      <th>1</th>\n      <td>2</td>\n      <td>2</td>\n      <td>3</td>\n      <td>3</td>\n      <td>1</td>\n      <td>2</td>\n      <td>2</td>\n      <td>1</td>\n      <td>1</td>\n      <td>1</td>\n      <td>...</td>\n      <td>1</td>\n      <td>3</td>\n      <td>2</td>\n      <td>3</td>\n      <td>2</td>\n      <td>2</td>\n      <td>3</td>\n      <td>1</td>\n      <td>1</td>\n      <td>0</td>\n    </tr>\n    <tr>\n      <th>2</th>\n      <td>2</td>\n      <td>2</td>\n      <td>2</td>\n      <td>3</td>\n      <td>2</td>\n      <td>2</td>\n      <td>2</td>\n      <td>2</td>\n      <td>4</td>\n      <td>2</td>\n      <td>...</td>\n      <td>1</td>\n      <td>2</td>\n      <td>2</td>\n      <td>1</td>\n      <td>1</td>\n      <td>2</td>\n      <td>2</td>\n      <td>1</td>\n      <td>1</td>\n      <td>0</td>\n    </tr>\n    <tr>\n      <th>3</th>\n      <td>1</td>\n      <td>1</td>\n      <td>1</td>\n      <td>3</td>\n      <td>1</td>\n      <td>2</td>\n      <td>1</td>\n      <td>2</td>\n      <td>1</td>\n      <td>2</td>\n      <td>...</td>\n      <td>2</td>\n      <td>3</td>\n      <td>2</td>\n      <td>2</td>\n      <td>1</td>\n      <td>3</td>\n      <td>2</td>\n      <td>1</td>\n      <td>1</td>\n      <td>0</td>\n    </tr>\n    <tr>\n      <th>4</th>\n      <td>2</td>\n      <td>2</td>\n      <td>1</td>\n      <td>3</td>\n      <td>2</td>\n      <td>2</td>\n      <td>1</td>\n      <td>3</td>\n      <td>1</td>\n      <td>4</td>\n      <td>...</td>\n      <td>1</td>\n      <td>2</td>\n      <td>2</td>\n      <td>2</td>\n      <td>1</td>\n      <td>2</td>\n      <td>2</td>\n      <td>1</td>\n      <td>1</td>\n      <td>0</td>\n    </tr>\n    <tr>\n      <th>...</th>\n      <td>...</td>\n      <td>...</td>\n      <td>...</td>\n      <td>...</td>\n      <td>...</td>\n      <td>...</td>\n      <td>...</td>\n      <td>...</td>\n      <td>...</td>\n      <td>...</td>\n      <td>...</td>\n      <td>...</td>\n      <td>...</td>\n      <td>...</td>\n      <td>...</td>\n      <td>...</td>\n      <td>...</td>\n      <td>...</td>\n      <td>...</td>\n      <td>...</td>\n      <td>...</td>\n    </tr>\n    <tr>\n      <th>140</th>\n      <td>2</td>\n      <td>1</td>\n      <td>2</td>\n      <td>3</td>\n      <td>1</td>\n      <td>1</td>\n      <td>2</td>\n      <td>1</td>\n      <td>1</td>\n      <td>2</td>\n      <td>...</td>\n      <td>1</td>\n      <td>2</td>\n      <td>1</td>\n      <td>2</td>\n      <td>1</td>\n      <td>3</td>\n      <td>3</td>\n      <td>9</td>\n      <td>5</td>\n      <td>1</td>\n    </tr>\n    <tr>\n      <th>141</th>\n      <td>1</td>\n      <td>1</td>\n      <td>2</td>\n      <td>4</td>\n      <td>2</td>\n      <td>2</td>\n      <td>2</td>\n      <td>1</td>\n      <td>4</td>\n      <td>2</td>\n      <td>...</td>\n      <td>1</td>\n      <td>3</td>\n      <td>2</td>\n      <td>2</td>\n      <td>1</td>\n      <td>5</td>\n      <td>3</td>\n      <td>9</td>\n      <td>5</td>\n      <td>1</td>\n    </tr>\n    <tr>\n      <th>142</th>\n      <td>1</td>\n      <td>1</td>\n      <td>1</td>\n      <td>4</td>\n      <td>2</td>\n      <td>2</td>\n      <td>2</td>\n      <td>1</td>\n      <td>1</td>\n      <td>1</td>\n      <td>...</td>\n      <td>1</td>\n      <td>3</td>\n      <td>3</td>\n      <td>2</td>\n      <td>1</td>\n      <td>4</td>\n      <td>3</td>\n      <td>9</td>\n      <td>1</td>\n      <td>0</td>\n    </tr>\n    <tr>\n      <th>143</th>\n      <td>2</td>\n      <td>1</td>\n      <td>2</td>\n      <td>4</td>\n      <td>1</td>\n      <td>1</td>\n      <td>1</td>\n      <td>5</td>\n      <td>2</td>\n      <td>3</td>\n      <td>...</td>\n      <td>1</td>\n      <td>2</td>\n      <td>1</td>\n      <td>2</td>\n      <td>1</td>\n      <td>5</td>\n      <td>3</td>\n      <td>9</td>\n      <td>4</td>\n      <td>1</td>\n    </tr>\n    <tr>\n      <th>144</th>\n      <td>1</td>\n      <td>1</td>\n      <td>1</td>\n      <td>5</td>\n      <td>2</td>\n      <td>2</td>\n      <td>2</td>\n      <td>3</td>\n      <td>1</td>\n      <td>1</td>\n      <td>...</td>\n      <td>1</td>\n      <td>3</td>\n      <td>2</td>\n      <td>3</td>\n      <td>1</td>\n      <td>5</td>\n      <td>4</td>\n      <td>9</td>\n      <td>3</td>\n      <td>0</td>\n    </tr>\n  </tbody>\n</table>\n<p>145 rows × 33 columns</p>\n</div>"
     },
     "execution_count": 295,
     "metadata": {},
     "output_type": "execute_result"
    }
   ],
   "source": [
    "students_id = df['STUDENT ID']\n",
    "df = df.drop('STUDENT ID', axis=1)\n",
    "df"
   ],
   "metadata": {
    "collapsed": false,
    "ExecuteTime": {
     "end_time": "2023-12-17T09:15:55.708897600Z",
     "start_time": "2023-12-17T09:15:55.620928600Z"
    }
   },
   "id": "a8b2cda70dd43bbb"
  },
  {
   "cell_type": "markdown",
   "source": [
    "Разделение данных"
   ],
   "metadata": {
    "collapsed": false
   },
   "id": "bd27858a84c123e5"
  },
  {
   "cell_type": "code",
   "execution_count": 296,
   "outputs": [],
   "source": [
    "X = df.drop('SUCCESS', axis=1)\n",
    "X = X.drop('GRADE', axis=1)\n",
    "Y = df['SUCCESS']"
   ],
   "metadata": {
    "collapsed": false,
    "ExecuteTime": {
     "end_time": "2023-12-17T09:15:55.825933300Z",
     "start_time": "2023-12-17T09:15:55.676909100Z"
    }
   },
   "id": "864f48ab23e5bfb5"
  },
  {
   "cell_type": "code",
   "execution_count": 297,
   "outputs": [
    {
     "data": {
      "text/plain": "     1  2  3  4  5  6  7  8  9  10  ...  22  23  24  25  26  27  28  29  30  \\\n0    2  2  3  3  1  2  2  1  1   1  ...   1   1   1   3   2   1   2   1   1   \n1    2  2  3  3  1  2  2  1  1   1  ...   1   1   1   3   2   3   2   2   3   \n2    2  2  2  3  2  2  2  2  4   2  ...   1   1   1   2   2   1   1   2   2   \n3    1  1  1  3  1  2  1  2  1   2  ...   1   1   2   3   2   2   1   3   2   \n4    2  2  1  3  2  2  1  3  1   4  ...   1   2   1   2   2   2   1   2   2   \n..  .. .. .. .. .. .. .. .. ..  ..  ...  ..  ..  ..  ..  ..  ..  ..  ..  ..   \n140  2  1  2  3  1  1  2  1  1   2  ...   1   1   1   2   1   2   1   3   3   \n141  1  1  2  4  2  2  2  1  4   2  ...   2   1   1   3   2   2   1   5   3   \n142  1  1  1  4  2  2  2  1  1   1  ...   1   1   1   3   3   2   1   4   3   \n143  2  1  2  4  1  1  1  5  2   3  ...   1   2   1   2   1   2   1   5   3   \n144  1  1  1  5  2  2  2  3  1   1  ...   1   2   1   3   2   3   1   5   4   \n\n     COURSE ID  \n0            1  \n1            1  \n2            1  \n3            1  \n4            1  \n..         ...  \n140          9  \n141          9  \n142          9  \n143          9  \n144          9  \n\n[145 rows x 31 columns]",
      "text/html": "<div>\n<style scoped>\n    .dataframe tbody tr th:only-of-type {\n        vertical-align: middle;\n    }\n\n    .dataframe tbody tr th {\n        vertical-align: top;\n    }\n\n    .dataframe thead th {\n        text-align: right;\n    }\n</style>\n<table border=\"1\" class=\"dataframe\">\n  <thead>\n    <tr style=\"text-align: right;\">\n      <th></th>\n      <th>1</th>\n      <th>2</th>\n      <th>3</th>\n      <th>4</th>\n      <th>5</th>\n      <th>6</th>\n      <th>7</th>\n      <th>8</th>\n      <th>9</th>\n      <th>10</th>\n      <th>...</th>\n      <th>22</th>\n      <th>23</th>\n      <th>24</th>\n      <th>25</th>\n      <th>26</th>\n      <th>27</th>\n      <th>28</th>\n      <th>29</th>\n      <th>30</th>\n      <th>COURSE ID</th>\n    </tr>\n  </thead>\n  <tbody>\n    <tr>\n      <th>0</th>\n      <td>2</td>\n      <td>2</td>\n      <td>3</td>\n      <td>3</td>\n      <td>1</td>\n      <td>2</td>\n      <td>2</td>\n      <td>1</td>\n      <td>1</td>\n      <td>1</td>\n      <td>...</td>\n      <td>1</td>\n      <td>1</td>\n      <td>1</td>\n      <td>3</td>\n      <td>2</td>\n      <td>1</td>\n      <td>2</td>\n      <td>1</td>\n      <td>1</td>\n      <td>1</td>\n    </tr>\n    <tr>\n      <th>1</th>\n      <td>2</td>\n      <td>2</td>\n      <td>3</td>\n      <td>3</td>\n      <td>1</td>\n      <td>2</td>\n      <td>2</td>\n      <td>1</td>\n      <td>1</td>\n      <td>1</td>\n      <td>...</td>\n      <td>1</td>\n      <td>1</td>\n      <td>1</td>\n      <td>3</td>\n      <td>2</td>\n      <td>3</td>\n      <td>2</td>\n      <td>2</td>\n      <td>3</td>\n      <td>1</td>\n    </tr>\n    <tr>\n      <th>2</th>\n      <td>2</td>\n      <td>2</td>\n      <td>2</td>\n      <td>3</td>\n      <td>2</td>\n      <td>2</td>\n      <td>2</td>\n      <td>2</td>\n      <td>4</td>\n      <td>2</td>\n      <td>...</td>\n      <td>1</td>\n      <td>1</td>\n      <td>1</td>\n      <td>2</td>\n      <td>2</td>\n      <td>1</td>\n      <td>1</td>\n      <td>2</td>\n      <td>2</td>\n      <td>1</td>\n    </tr>\n    <tr>\n      <th>3</th>\n      <td>1</td>\n      <td>1</td>\n      <td>1</td>\n      <td>3</td>\n      <td>1</td>\n      <td>2</td>\n      <td>1</td>\n      <td>2</td>\n      <td>1</td>\n      <td>2</td>\n      <td>...</td>\n      <td>1</td>\n      <td>1</td>\n      <td>2</td>\n      <td>3</td>\n      <td>2</td>\n      <td>2</td>\n      <td>1</td>\n      <td>3</td>\n      <td>2</td>\n      <td>1</td>\n    </tr>\n    <tr>\n      <th>4</th>\n      <td>2</td>\n      <td>2</td>\n      <td>1</td>\n      <td>3</td>\n      <td>2</td>\n      <td>2</td>\n      <td>1</td>\n      <td>3</td>\n      <td>1</td>\n      <td>4</td>\n      <td>...</td>\n      <td>1</td>\n      <td>2</td>\n      <td>1</td>\n      <td>2</td>\n      <td>2</td>\n      <td>2</td>\n      <td>1</td>\n      <td>2</td>\n      <td>2</td>\n      <td>1</td>\n    </tr>\n    <tr>\n      <th>...</th>\n      <td>...</td>\n      <td>...</td>\n      <td>...</td>\n      <td>...</td>\n      <td>...</td>\n      <td>...</td>\n      <td>...</td>\n      <td>...</td>\n      <td>...</td>\n      <td>...</td>\n      <td>...</td>\n      <td>...</td>\n      <td>...</td>\n      <td>...</td>\n      <td>...</td>\n      <td>...</td>\n      <td>...</td>\n      <td>...</td>\n      <td>...</td>\n      <td>...</td>\n      <td>...</td>\n    </tr>\n    <tr>\n      <th>140</th>\n      <td>2</td>\n      <td>1</td>\n      <td>2</td>\n      <td>3</td>\n      <td>1</td>\n      <td>1</td>\n      <td>2</td>\n      <td>1</td>\n      <td>1</td>\n      <td>2</td>\n      <td>...</td>\n      <td>1</td>\n      <td>1</td>\n      <td>1</td>\n      <td>2</td>\n      <td>1</td>\n      <td>2</td>\n      <td>1</td>\n      <td>3</td>\n      <td>3</td>\n      <td>9</td>\n    </tr>\n    <tr>\n      <th>141</th>\n      <td>1</td>\n      <td>1</td>\n      <td>2</td>\n      <td>4</td>\n      <td>2</td>\n      <td>2</td>\n      <td>2</td>\n      <td>1</td>\n      <td>4</td>\n      <td>2</td>\n      <td>...</td>\n      <td>2</td>\n      <td>1</td>\n      <td>1</td>\n      <td>3</td>\n      <td>2</td>\n      <td>2</td>\n      <td>1</td>\n      <td>5</td>\n      <td>3</td>\n      <td>9</td>\n    </tr>\n    <tr>\n      <th>142</th>\n      <td>1</td>\n      <td>1</td>\n      <td>1</td>\n      <td>4</td>\n      <td>2</td>\n      <td>2</td>\n      <td>2</td>\n      <td>1</td>\n      <td>1</td>\n      <td>1</td>\n      <td>...</td>\n      <td>1</td>\n      <td>1</td>\n      <td>1</td>\n      <td>3</td>\n      <td>3</td>\n      <td>2</td>\n      <td>1</td>\n      <td>4</td>\n      <td>3</td>\n      <td>9</td>\n    </tr>\n    <tr>\n      <th>143</th>\n      <td>2</td>\n      <td>1</td>\n      <td>2</td>\n      <td>4</td>\n      <td>1</td>\n      <td>1</td>\n      <td>1</td>\n      <td>5</td>\n      <td>2</td>\n      <td>3</td>\n      <td>...</td>\n      <td>1</td>\n      <td>2</td>\n      <td>1</td>\n      <td>2</td>\n      <td>1</td>\n      <td>2</td>\n      <td>1</td>\n      <td>5</td>\n      <td>3</td>\n      <td>9</td>\n    </tr>\n    <tr>\n      <th>144</th>\n      <td>1</td>\n      <td>1</td>\n      <td>1</td>\n      <td>5</td>\n      <td>2</td>\n      <td>2</td>\n      <td>2</td>\n      <td>3</td>\n      <td>1</td>\n      <td>1</td>\n      <td>...</td>\n      <td>1</td>\n      <td>2</td>\n      <td>1</td>\n      <td>3</td>\n      <td>2</td>\n      <td>3</td>\n      <td>1</td>\n      <td>5</td>\n      <td>4</td>\n      <td>9</td>\n    </tr>\n  </tbody>\n</table>\n<p>145 rows × 31 columns</p>\n</div>"
     },
     "execution_count": 297,
     "metadata": {},
     "output_type": "execute_result"
    }
   ],
   "source": [
    "X"
   ],
   "metadata": {
    "collapsed": false,
    "ExecuteTime": {
     "end_time": "2023-12-17T09:15:55.948892200Z",
     "start_time": "2023-12-17T09:15:55.753884Z"
    }
   },
   "id": "2d53f494578e9bcd"
  },
  {
   "cell_type": "code",
   "execution_count": 298,
   "outputs": [
    {
     "data": {
      "text/plain": "0      0\n1      0\n2      0\n3      0\n4      0\n      ..\n140    1\n141    1\n142    0\n143    1\n144    0\nName: SUCCESS, Length: 145, dtype: int32"
     },
     "execution_count": 298,
     "metadata": {},
     "output_type": "execute_result"
    }
   ],
   "source": [
    "Y"
   ],
   "metadata": {
    "collapsed": false,
    "ExecuteTime": {
     "end_time": "2023-12-17T09:15:56.059857800Z",
     "start_time": "2023-12-17T09:15:55.911905100Z"
    }
   },
   "id": "79632265b47eaa22"
  },
  {
   "cell_type": "code",
   "execution_count": 299,
   "outputs": [
    {
     "name": "stdout",
     "output_type": "stream",
     "text": [
      "<class 'pandas.core.frame.DataFrame'>\n",
      "RangeIndex: 145 entries, 0 to 144\n",
      "Data columns (total 31 columns):\n",
      " #   Column     Non-Null Count  Dtype\n",
      "---  ------     --------------  -----\n",
      " 0   1          145 non-null    int64\n",
      " 1   2          145 non-null    int64\n",
      " 2   3          145 non-null    int64\n",
      " 3   4          145 non-null    int64\n",
      " 4   5          145 non-null    int64\n",
      " 5   6          145 non-null    int64\n",
      " 6   7          145 non-null    int64\n",
      " 7   8          145 non-null    int64\n",
      " 8   9          145 non-null    int64\n",
      " 9   10         145 non-null    int64\n",
      " 10  11         145 non-null    int64\n",
      " 11  12         145 non-null    int64\n",
      " 12  13         145 non-null    int64\n",
      " 13  14         145 non-null    int64\n",
      " 14  15         145 non-null    int64\n",
      " 15  16         145 non-null    int64\n",
      " 16  17         145 non-null    int64\n",
      " 17  18         145 non-null    int64\n",
      " 18  19         145 non-null    int64\n",
      " 19  20         145 non-null    int64\n",
      " 20  21         145 non-null    int64\n",
      " 21  22         145 non-null    int64\n",
      " 22  23         145 non-null    int64\n",
      " 23  24         145 non-null    int64\n",
      " 24  25         145 non-null    int64\n",
      " 25  26         145 non-null    int64\n",
      " 26  27         145 non-null    int64\n",
      " 27  28         145 non-null    int64\n",
      " 28  29         145 non-null    int64\n",
      " 29  30         145 non-null    int64\n",
      " 30  COURSE ID  145 non-null    int64\n",
      "dtypes: int64(31)\n",
      "memory usage: 35.2 KB\n"
     ]
    }
   ],
   "source": [
    "X.info()"
   ],
   "metadata": {
    "collapsed": false,
    "ExecuteTime": {
     "end_time": "2023-12-17T09:15:56.235799600Z",
     "start_time": "2023-12-17T09:15:56.037864200Z"
    }
   },
   "id": "20c9ecbb810c782f"
  },
  {
   "cell_type": "markdown",
   "source": [
    "Отберем нужное количество признаков"
   ],
   "metadata": {
    "collapsed": false
   },
   "id": "e2ed2ea17e381a37"
  },
  {
   "cell_type": "code",
   "execution_count": 300,
   "outputs": [
    {
     "data": {
      "text/plain": "26"
     },
     "execution_count": 300,
     "metadata": {},
     "output_type": "execute_result"
    }
   ],
   "source": [
    "columns_count = int(len(X.columns)**(1/2))\n",
    "to_drop_count = len(X.columns) - columns_count\n",
    "to_drop_count"
   ],
   "metadata": {
    "collapsed": false,
    "ExecuteTime": {
     "end_time": "2023-12-17T09:15:56.333767800Z",
     "start_time": "2023-12-17T09:15:56.202811600Z"
    }
   },
   "id": "4ab79b5f17023fdd"
  },
  {
   "cell_type": "markdown",
   "source": [
    "Распределение данных"
   ],
   "metadata": {
    "collapsed": false
   },
   "id": "a4eff9263f003ba7"
  },
  {
   "cell_type": "code",
   "execution_count": 301,
   "outputs": [],
   "source": [
    "#cols = X.columns\n",
    "\n",
    "#fig, axes = plt.subplots(len(cols), 1, figsize=(15, len(cols)*8))\n",
    "\n",
    "#for i, column in enumerate(cols):\n",
    "#    axes[i].scatter(range(len(X)), X[column], alpha=0.3)\n",
    "#    axes[i].set_xlabel('Index')\n",
    "#    axes[i].set_ylabel(column)\n",
    "\n",
    "#plt.tight_layout()\n",
    "#plt.show()"
   ],
   "metadata": {
    "collapsed": false,
    "ExecuteTime": {
     "end_time": "2023-12-17T09:15:56.398747300Z",
     "start_time": "2023-12-17T09:15:56.311775600Z"
    }
   },
   "id": "308be33dd6b013ff"
  },
  {
   "cell_type": "code",
   "execution_count": 302,
   "outputs": [
    {
     "data": {
      "text/plain": "     1  2  4  12  30\n0    2  2  3   2   1\n1    2  2  3   3   3\n2    2  2  3   2   2\n3    1  1  3   2   2\n4    2  2  3   3   2\n..  .. .. ..  ..  ..\n140  2  1  3   2   3\n141  1  1  4   1   3\n142  1  1  4   4   3\n143  2  1  4   4   3\n144  1  1  5   1   4\n\n[145 rows x 5 columns]",
      "text/html": "<div>\n<style scoped>\n    .dataframe tbody tr th:only-of-type {\n        vertical-align: middle;\n    }\n\n    .dataframe tbody tr th {\n        vertical-align: top;\n    }\n\n    .dataframe thead th {\n        text-align: right;\n    }\n</style>\n<table border=\"1\" class=\"dataframe\">\n  <thead>\n    <tr style=\"text-align: right;\">\n      <th></th>\n      <th>1</th>\n      <th>2</th>\n      <th>4</th>\n      <th>12</th>\n      <th>30</th>\n    </tr>\n  </thead>\n  <tbody>\n    <tr>\n      <th>0</th>\n      <td>2</td>\n      <td>2</td>\n      <td>3</td>\n      <td>2</td>\n      <td>1</td>\n    </tr>\n    <tr>\n      <th>1</th>\n      <td>2</td>\n      <td>2</td>\n      <td>3</td>\n      <td>3</td>\n      <td>3</td>\n    </tr>\n    <tr>\n      <th>2</th>\n      <td>2</td>\n      <td>2</td>\n      <td>3</td>\n      <td>2</td>\n      <td>2</td>\n    </tr>\n    <tr>\n      <th>3</th>\n      <td>1</td>\n      <td>1</td>\n      <td>3</td>\n      <td>2</td>\n      <td>2</td>\n    </tr>\n    <tr>\n      <th>4</th>\n      <td>2</td>\n      <td>2</td>\n      <td>3</td>\n      <td>3</td>\n      <td>2</td>\n    </tr>\n    <tr>\n      <th>...</th>\n      <td>...</td>\n      <td>...</td>\n      <td>...</td>\n      <td>...</td>\n      <td>...</td>\n    </tr>\n    <tr>\n      <th>140</th>\n      <td>2</td>\n      <td>1</td>\n      <td>3</td>\n      <td>2</td>\n      <td>3</td>\n    </tr>\n    <tr>\n      <th>141</th>\n      <td>1</td>\n      <td>1</td>\n      <td>4</td>\n      <td>1</td>\n      <td>3</td>\n    </tr>\n    <tr>\n      <th>142</th>\n      <td>1</td>\n      <td>1</td>\n      <td>4</td>\n      <td>4</td>\n      <td>3</td>\n    </tr>\n    <tr>\n      <th>143</th>\n      <td>2</td>\n      <td>1</td>\n      <td>4</td>\n      <td>4</td>\n      <td>3</td>\n    </tr>\n    <tr>\n      <th>144</th>\n      <td>1</td>\n      <td>1</td>\n      <td>5</td>\n      <td>1</td>\n      <td>4</td>\n    </tr>\n  </tbody>\n</table>\n<p>145 rows × 5 columns</p>\n</div>"
     },
     "execution_count": 302,
     "metadata": {},
     "output_type": "execute_result"
    }
   ],
   "source": [
    "columns = X.columns.values\n",
    "to_drop_columns = np.random.choice(columns, size=to_drop_count, replace=False)\n",
    "X = X.drop(to_drop_columns, axis=1)\n",
    "X"
   ],
   "metadata": {
    "collapsed": false,
    "ExecuteTime": {
     "end_time": "2023-12-17T09:15:56.442735Z",
     "start_time": "2023-12-17T09:15:56.399746600Z"
    }
   },
   "id": "68ee034a46ac143b"
  },
  {
   "cell_type": "markdown",
   "source": [
    "Разделение на тренировочную и тестовую выборки"
   ],
   "metadata": {
    "collapsed": false
   },
   "id": "b59ced649b752633"
  },
  {
   "cell_type": "code",
   "execution_count": 303,
   "outputs": [],
   "source": [
    "indexes = list(range(len(X)))\n",
    "test_size = 0.2\n",
    "random.seed(42)\n",
    "random.shuffle(indexes)\n",
    "split_index = int(len(X) * test_size)\n",
    "\n",
    "X_train = X.iloc[indexes[split_index:]]\n",
    "X_test = X.iloc[indexes[:split_index]]\n",
    "Y_train = Y.iloc[indexes[split_index:]]\n",
    "Y_test = Y.iloc[indexes[:split_index]]"
   ],
   "metadata": {
    "collapsed": false,
    "ExecuteTime": {
     "end_time": "2023-12-17T09:15:56.512709100Z",
     "start_time": "2023-12-17T09:15:56.441734100Z"
    }
   },
   "id": "9da8e229af9f0e40"
  },
  {
   "cell_type": "code",
   "execution_count": 304,
   "outputs": [
    {
     "data": {
      "text/plain": "     1  2  4  12  30\n134  1  1  4   1   3\n127  1  1  4   2   2\n39   2  1  3   3   1\n121  2  1  3   1   1\n60   2  1  3   1   1\n..  .. .. ..  ..  ..\n57   2  2  3   2   4\n62   2  2  3   3   4\n70   1  2  4   3   4\n6    1  2  4   3   4\n28   3  2  3   2   4\n\n[116 rows x 5 columns]",
      "text/html": "<div>\n<style scoped>\n    .dataframe tbody tr th:only-of-type {\n        vertical-align: middle;\n    }\n\n    .dataframe tbody tr th {\n        vertical-align: top;\n    }\n\n    .dataframe thead th {\n        text-align: right;\n    }\n</style>\n<table border=\"1\" class=\"dataframe\">\n  <thead>\n    <tr style=\"text-align: right;\">\n      <th></th>\n      <th>1</th>\n      <th>2</th>\n      <th>4</th>\n      <th>12</th>\n      <th>30</th>\n    </tr>\n  </thead>\n  <tbody>\n    <tr>\n      <th>134</th>\n      <td>1</td>\n      <td>1</td>\n      <td>4</td>\n      <td>1</td>\n      <td>3</td>\n    </tr>\n    <tr>\n      <th>127</th>\n      <td>1</td>\n      <td>1</td>\n      <td>4</td>\n      <td>2</td>\n      <td>2</td>\n    </tr>\n    <tr>\n      <th>39</th>\n      <td>2</td>\n      <td>1</td>\n      <td>3</td>\n      <td>3</td>\n      <td>1</td>\n    </tr>\n    <tr>\n      <th>121</th>\n      <td>2</td>\n      <td>1</td>\n      <td>3</td>\n      <td>1</td>\n      <td>1</td>\n    </tr>\n    <tr>\n      <th>60</th>\n      <td>2</td>\n      <td>1</td>\n      <td>3</td>\n      <td>1</td>\n      <td>1</td>\n    </tr>\n    <tr>\n      <th>...</th>\n      <td>...</td>\n      <td>...</td>\n      <td>...</td>\n      <td>...</td>\n      <td>...</td>\n    </tr>\n    <tr>\n      <th>57</th>\n      <td>2</td>\n      <td>2</td>\n      <td>3</td>\n      <td>2</td>\n      <td>4</td>\n    </tr>\n    <tr>\n      <th>62</th>\n      <td>2</td>\n      <td>2</td>\n      <td>3</td>\n      <td>3</td>\n      <td>4</td>\n    </tr>\n    <tr>\n      <th>70</th>\n      <td>1</td>\n      <td>2</td>\n      <td>4</td>\n      <td>3</td>\n      <td>4</td>\n    </tr>\n    <tr>\n      <th>6</th>\n      <td>1</td>\n      <td>2</td>\n      <td>4</td>\n      <td>3</td>\n      <td>4</td>\n    </tr>\n    <tr>\n      <th>28</th>\n      <td>3</td>\n      <td>2</td>\n      <td>3</td>\n      <td>2</td>\n      <td>4</td>\n    </tr>\n  </tbody>\n</table>\n<p>116 rows × 5 columns</p>\n</div>"
     },
     "execution_count": 304,
     "metadata": {},
     "output_type": "execute_result"
    }
   ],
   "source": [
    "X_train"
   ],
   "metadata": {
    "collapsed": false,
    "ExecuteTime": {
     "end_time": "2023-12-17T09:15:56.517708900Z",
     "start_time": "2023-12-17T09:15:56.479722300Z"
    }
   },
   "id": "7e923153b7d36f60"
  },
  {
   "cell_type": "code",
   "execution_count": 305,
   "outputs": [
    {
     "data": {
      "text/plain": "     1  2  4  12  30\n137  1  1  5   2   4\n18   1  1  4   2   3\n81   3  2  3   2   4\n51   2  1  3   2   3\n88   1  2  4   4   3\n112  2  1  3   1   2\n130  1  1  3   2   3\n30   2  2  5   1   4\n133  1  1  5   1   3\n120  2  1  3   3   2\n71   1  1  4   3   2\n110  2  2  3   4   3\n141  1  1  4   1   3\n38   2  2  5   3   3\n82   2  2  4   1   3\n32   2  1  3   2   3\n90   2  1  3   3   2\n61   1  2  3   3   4\n42   2  2  3   4   3\n85   1  2  5   1   3\n125  1  1  5   1   3\n126  1  1  4   6   2\n52   2  1  3   3   2\n1    2  2  3   3   3\n87   2  2  3   4   1\n128  1  1  4   4   2\n63   2  2  4   3   3\n101  1  2  4   3   3\n124  1  1  4   3   3",
      "text/html": "<div>\n<style scoped>\n    .dataframe tbody tr th:only-of-type {\n        vertical-align: middle;\n    }\n\n    .dataframe tbody tr th {\n        vertical-align: top;\n    }\n\n    .dataframe thead th {\n        text-align: right;\n    }\n</style>\n<table border=\"1\" class=\"dataframe\">\n  <thead>\n    <tr style=\"text-align: right;\">\n      <th></th>\n      <th>1</th>\n      <th>2</th>\n      <th>4</th>\n      <th>12</th>\n      <th>30</th>\n    </tr>\n  </thead>\n  <tbody>\n    <tr>\n      <th>137</th>\n      <td>1</td>\n      <td>1</td>\n      <td>5</td>\n      <td>2</td>\n      <td>4</td>\n    </tr>\n    <tr>\n      <th>18</th>\n      <td>1</td>\n      <td>1</td>\n      <td>4</td>\n      <td>2</td>\n      <td>3</td>\n    </tr>\n    <tr>\n      <th>81</th>\n      <td>3</td>\n      <td>2</td>\n      <td>3</td>\n      <td>2</td>\n      <td>4</td>\n    </tr>\n    <tr>\n      <th>51</th>\n      <td>2</td>\n      <td>1</td>\n      <td>3</td>\n      <td>2</td>\n      <td>3</td>\n    </tr>\n    <tr>\n      <th>88</th>\n      <td>1</td>\n      <td>2</td>\n      <td>4</td>\n      <td>4</td>\n      <td>3</td>\n    </tr>\n    <tr>\n      <th>112</th>\n      <td>2</td>\n      <td>1</td>\n      <td>3</td>\n      <td>1</td>\n      <td>2</td>\n    </tr>\n    <tr>\n      <th>130</th>\n      <td>1</td>\n      <td>1</td>\n      <td>3</td>\n      <td>2</td>\n      <td>3</td>\n    </tr>\n    <tr>\n      <th>30</th>\n      <td>2</td>\n      <td>2</td>\n      <td>5</td>\n      <td>1</td>\n      <td>4</td>\n    </tr>\n    <tr>\n      <th>133</th>\n      <td>1</td>\n      <td>1</td>\n      <td>5</td>\n      <td>1</td>\n      <td>3</td>\n    </tr>\n    <tr>\n      <th>120</th>\n      <td>2</td>\n      <td>1</td>\n      <td>3</td>\n      <td>3</td>\n      <td>2</td>\n    </tr>\n    <tr>\n      <th>71</th>\n      <td>1</td>\n      <td>1</td>\n      <td>4</td>\n      <td>3</td>\n      <td>2</td>\n    </tr>\n    <tr>\n      <th>110</th>\n      <td>2</td>\n      <td>2</td>\n      <td>3</td>\n      <td>4</td>\n      <td>3</td>\n    </tr>\n    <tr>\n      <th>141</th>\n      <td>1</td>\n      <td>1</td>\n      <td>4</td>\n      <td>1</td>\n      <td>3</td>\n    </tr>\n    <tr>\n      <th>38</th>\n      <td>2</td>\n      <td>2</td>\n      <td>5</td>\n      <td>3</td>\n      <td>3</td>\n    </tr>\n    <tr>\n      <th>82</th>\n      <td>2</td>\n      <td>2</td>\n      <td>4</td>\n      <td>1</td>\n      <td>3</td>\n    </tr>\n    <tr>\n      <th>32</th>\n      <td>2</td>\n      <td>1</td>\n      <td>3</td>\n      <td>2</td>\n      <td>3</td>\n    </tr>\n    <tr>\n      <th>90</th>\n      <td>2</td>\n      <td>1</td>\n      <td>3</td>\n      <td>3</td>\n      <td>2</td>\n    </tr>\n    <tr>\n      <th>61</th>\n      <td>1</td>\n      <td>2</td>\n      <td>3</td>\n      <td>3</td>\n      <td>4</td>\n    </tr>\n    <tr>\n      <th>42</th>\n      <td>2</td>\n      <td>2</td>\n      <td>3</td>\n      <td>4</td>\n      <td>3</td>\n    </tr>\n    <tr>\n      <th>85</th>\n      <td>1</td>\n      <td>2</td>\n      <td>5</td>\n      <td>1</td>\n      <td>3</td>\n    </tr>\n    <tr>\n      <th>125</th>\n      <td>1</td>\n      <td>1</td>\n      <td>5</td>\n      <td>1</td>\n      <td>3</td>\n    </tr>\n    <tr>\n      <th>126</th>\n      <td>1</td>\n      <td>1</td>\n      <td>4</td>\n      <td>6</td>\n      <td>2</td>\n    </tr>\n    <tr>\n      <th>52</th>\n      <td>2</td>\n      <td>1</td>\n      <td>3</td>\n      <td>3</td>\n      <td>2</td>\n    </tr>\n    <tr>\n      <th>1</th>\n      <td>2</td>\n      <td>2</td>\n      <td>3</td>\n      <td>3</td>\n      <td>3</td>\n    </tr>\n    <tr>\n      <th>87</th>\n      <td>2</td>\n      <td>2</td>\n      <td>3</td>\n      <td>4</td>\n      <td>1</td>\n    </tr>\n    <tr>\n      <th>128</th>\n      <td>1</td>\n      <td>1</td>\n      <td>4</td>\n      <td>4</td>\n      <td>2</td>\n    </tr>\n    <tr>\n      <th>63</th>\n      <td>2</td>\n      <td>2</td>\n      <td>4</td>\n      <td>3</td>\n      <td>3</td>\n    </tr>\n    <tr>\n      <th>101</th>\n      <td>1</td>\n      <td>2</td>\n      <td>4</td>\n      <td>3</td>\n      <td>3</td>\n    </tr>\n    <tr>\n      <th>124</th>\n      <td>1</td>\n      <td>1</td>\n      <td>4</td>\n      <td>3</td>\n      <td>3</td>\n    </tr>\n  </tbody>\n</table>\n</div>"
     },
     "execution_count": 305,
     "metadata": {},
     "output_type": "execute_result"
    }
   ],
   "source": [
    "X_test"
   ],
   "metadata": {
    "collapsed": false,
    "ExecuteTime": {
     "end_time": "2023-12-17T09:15:56.649665500Z",
     "start_time": "2023-12-17T09:15:56.520708300Z"
    }
   },
   "id": "237390ab2237e030"
  },
  {
   "cell_type": "code",
   "execution_count": 306,
   "outputs": [
    {
     "data": {
      "text/plain": "134    0\n127    0\n39     0\n121    0\n60     0\n      ..\n57     1\n62     0\n70     1\n6      1\n28     0\nName: SUCCESS, Length: 116, dtype: int32"
     },
     "execution_count": 306,
     "metadata": {},
     "output_type": "execute_result"
    }
   ],
   "source": [
    "Y_train"
   ],
   "metadata": {
    "collapsed": false,
    "ExecuteTime": {
     "end_time": "2023-12-17T09:15:56.729639600Z",
     "start_time": "2023-12-17T09:15:56.625673100Z"
    }
   },
   "id": "fadc365e22a7310"
  },
  {
   "cell_type": "code",
   "execution_count": 307,
   "outputs": [
    {
     "data": {
      "text/plain": "137    0\n18     0\n81     0\n51     1\n88     1\n112    0\n130    0\n30     1\n133    0\n120    0\n71     1\n110    0\n141    1\n38     0\n82     1\n32     0\n90     1\n61     1\n42     0\n85     1\n125    0\n126    0\n52     0\n1      0\n87     1\n128    0\n63     1\n101    1\n124    0\nName: SUCCESS, dtype: int32"
     },
     "execution_count": 307,
     "metadata": {},
     "output_type": "execute_result"
    }
   ],
   "source": [
    "Y_test"
   ],
   "metadata": {
    "collapsed": false,
    "ExecuteTime": {
     "end_time": "2023-12-17T09:15:56.863596Z",
     "start_time": "2023-12-17T09:15:56.732640500Z"
    }
   },
   "id": "27e9bbd315020403"
  },
  {
   "cell_type": "markdown",
   "source": [
    "Дерево решений"
   ],
   "metadata": {
    "collapsed": false
   },
   "id": "48d3087a59bae3f3"
  },
  {
   "cell_type": "code",
   "execution_count": 308,
   "outputs": [],
   "source": [
    "class TreeNode:\n",
    "\n",
    "    def __init__(self, left = None, right = None, class_name = None, feature = None, div_value = None):\n",
    "        self.left = left\n",
    "        self.right = right\n",
    "        self.class_name = class_name\n",
    "        self.feature = feature\n",
    "        self.div_value = div_value\n",
    "\n",
    "    def __str__(self):\n",
    "        return f'(left = {self.left}; right  = {self.right}; class_name = {self.class_name}; feature = {self.feature}; div_value = {self.div_value})'\n",
    "\n",
    "\n",
    "\n",
    "def tree_to_string(root, depth=0):\n",
    "\n",
    "        indentation = '        ' * depth * 2\n",
    "        format = '--' * (depth + 1)\n",
    "\n",
    "        if root.class_name is not None:\n",
    "            print(f\"{indentation}|{format} class_name = {'Успех' if root.class_name == 1 else 'Незачёт'}\")\n",
    "\n",
    "        else:\n",
    "            feature = columns[root.feature]\n",
    "            div_value = root.div_value\n",
    "\n",
    "            print(f'{indentation}|{format} {feature} < {div_value}')\n",
    "            tree_to_string(root.left, depth + 1)\n",
    "\n",
    "            print(f'{indentation}|{format} {feature} >= {div_value}')\n",
    "            tree_to_string(root.right, depth + 1)\n"
   ],
   "metadata": {
    "collapsed": false,
    "ExecuteTime": {
     "end_time": "2023-12-17T09:15:56.923590900Z",
     "start_time": "2023-12-17T09:15:56.826608300Z"
    }
   },
   "id": "b3fc529bdfa7d017"
  },
  {
   "cell_type": "markdown",
   "source": [
    "Вычисление энтропии для определения чистоты подмножества"
   ],
   "metadata": {
    "collapsed": false
   },
   "id": "49f005b085d40fdc"
  },
  {
   "cell_type": "code",
   "execution_count": 309,
   "outputs": [],
   "source": [
    "def calculate_entropy(y_values):\n",
    "    if len(y_values) == 0:\n",
    "        return 0\n",
    "\n",
    "    p1 = np.mean(y_values == y_values[0])\n",
    "    p2 = 1 - p1\n",
    "\n",
    "    if p1  == 1 or p2 == 1:\n",
    "        return 0\n",
    "\n",
    "    return -(p1 * math.log2(p1) + p2 * math.log2(p2))"
   ],
   "metadata": {
    "collapsed": false,
    "ExecuteTime": {
     "end_time": "2023-12-17T09:15:56.987556100Z",
     "start_time": "2023-12-17T09:15:56.907581600Z"
    }
   },
   "id": "85849713c662b1a8"
  },
  {
   "cell_type": "markdown",
   "source": [
    "Вычисление информационного выигрыша при разбиении по данному признаку X"
   ],
   "metadata": {
    "collapsed": false
   },
   "id": "43bd69457d62ca73"
  },
  {
   "cell_type": "code",
   "execution_count": 310,
   "outputs": [],
   "source": [
    "def calculate_gain(x, y):\n",
    "    #  энтропия до разделения\n",
    "    before = calculate_entropy(y.values)\n",
    "\n",
    "    #  находим уникальные значения признака и количество вхождений каждого уникального признака\n",
    "    values, occurrences = np.unique(x, return_counts=True)\n",
    "    total = len(y.values)\n",
    "\n",
    "    #  массив энтропий для того, чтобы получить взвешанную энтропию (ВЭ потом будет использоваться для определения выгоды от разделения по данному признаку)\n",
    "    entropies = []\n",
    "    #  пробегаюсь по всем уникальным значениям признака\n",
    "    for i, value in enumerate(values):\n",
    "\n",
    "        #  вычисляю вероятность (количество объектов с таким признаком / общее количество объектов)\n",
    "        prob = occurrences[i] / total\n",
    "\n",
    "        #  все метки данного значения X\n",
    "        cur_labels = y[x == value]\n",
    "\n",
    "        #  выщитываю энтропию меток полученных значений меток для данного уникального значения\n",
    "        tmp_entropy = prob * calculate_entropy(cur_labels.values)\n",
    "\n",
    "        #  добавляю в массив энтропий\n",
    "        entropies.append(tmp_entropy)\n",
    "\n",
    "    return before - sum(entropies)"
   ],
   "metadata": {
    "collapsed": false,
    "ExecuteTime": {
     "end_time": "2023-12-17T09:15:57.040553800Z",
     "start_time": "2023-12-17T09:15:56.992556500Z"
    }
   },
   "id": "339e6a89372ccce1"
  },
  {
   "cell_type": "markdown",
   "source": [
    "Построение модели. Способ ограничения: глубина дерева"
   ],
   "metadata": {
    "collapsed": false
   },
   "id": "a6a3a36bd05c2741"
  },
  {
   "cell_type": "code",
   "execution_count": 311,
   "outputs": [],
   "source": [
    "def build_nodes(x, y, cur_depth, max_depth):\n",
    "    y_values = y.values\n",
    "\n",
    "    #  если все метки одинаковые, то энтропия == 0, значит нашли лист\n",
    "    if len(np.unique(y_values)) == 1:\n",
    "        return TreeNode(class_name = y_values[0])\n",
    "\n",
    "    #  если текущая длина превысила предельную, то опеределяем класс по принципу большинства\n",
    "    if cur_depth >= max_depth:\n",
    "        labels = np.unique(y_values)\n",
    "        label = y_values[0]\n",
    "        l1_count = 0\n",
    "        for i in range(len(y_values)):\n",
    "            if y_values[i] == label:\n",
    "                l1_count += 1\n",
    "        l2_count = len(y_values) - l1_count\n",
    "        return TreeNode(class_name = labels[0] if l1_count >= l2_count else labels[1])\n",
    "\n",
    "    max_gain = 0\n",
    "    final_feature_ind = None\n",
    "    final_div_value = None\n",
    "\n",
    "    # print(X)\n",
    "    #  для каждого признака признакам\n",
    "    for cur_column_ind in range(x.shape[1]):\n",
    "        #  рассматриваем возможность разделения по каждому уникальному значению\n",
    "        for div_value in np.unique(x.iloc[:, cur_column_ind]):\n",
    "            #  делим\n",
    "            left = x.iloc[:, cur_column_ind] < div_value\n",
    "            right = x.iloc[:, cur_column_ind] >= div_value\n",
    "\n",
    "            #  если нет смысла в разделении, пропускаем значение признака\n",
    "            if sum(left) == 0 or sum(right) == 0:\n",
    "                continue\n",
    "\n",
    "            #  высчитываем выигрыш\n",
    "            cur_gain = calculate_gain(left, y)\n",
    "            #  запоминаем\n",
    "            if cur_gain > max_gain:\n",
    "                max_gain = cur_gain\n",
    "                final_feature_ind = cur_column_ind\n",
    "                final_div_value = div_value\n",
    "\n",
    "    #  если выигрыша не обнаружено, поступаем как в случае с превышением глубины (большинство)\n",
    "    if max_gain == 0 or final_feature_ind is None or final_div_value is None:\n",
    "        labels = np.unique(y_values)\n",
    "        label = y_values[0]\n",
    "        l1_count = 0\n",
    "        for i in range(len(y_values)):\n",
    "            if y_values[i] == label:\n",
    "                l1_count += 1\n",
    "        l2_count = len(y_values) - l1_count\n",
    "        return TreeNode(class_name = labels[0] if l1_count >= l2_count else labels[1])\n",
    "\n",
    "    #  определяем индексы разделений\n",
    "    left_x_ind = x.iloc[:, final_feature_ind] < final_div_value\n",
    "    right_x_ind = x.iloc[:, final_feature_ind] >= final_div_value\n",
    "\n",
    "    #  строим левое и правое деревья\n",
    "    left_tree_node = build_nodes(x[left_x_ind], y[left_x_ind], cur_depth + 1, max_depth)\n",
    "    right_tree_node = build_nodes(x[right_x_ind], y[right_x_ind], cur_depth + 1, max_depth)\n",
    "\n",
    "    return TreeNode(left = left_tree_node,\n",
    "                    right = right_tree_node,\n",
    "                    feature = final_feature_ind,\n",
    "                    div_value = final_div_value)"
   ],
   "metadata": {
    "collapsed": false,
    "ExecuteTime": {
     "end_time": "2023-12-17T09:15:57.076529Z",
     "start_time": "2023-12-17T09:15:57.034556200Z"
    }
   },
   "id": "e8f14ec8989a9390"
  },
  {
   "cell_type": "markdown",
   "source": [
    "Создание модели на тренировочных данных и вывод в удобном виде"
   ],
   "metadata": {
    "collapsed": false
   },
   "id": "d8358e744a97ecd0"
  },
  {
   "cell_type": "code",
   "execution_count": 312,
   "outputs": [
    {
     "name": "stdout",
     "output_type": "stream",
     "text": [
      "|-- 5 < 2\n",
      "                |---- 4 < 5\n",
      "                                |------ class_name = Незачёт\n",
      "                |---- 4 >= 5\n",
      "                                |------ class_name = Успех\n",
      "|-- 5 >= 2\n",
      "                |---- 1 < 3\n",
      "                                |------ 3 < 5\n",
      "                                                |-------- 5 < 4\n",
      "                                                                |---------- class_name = Незачёт\n",
      "                                                |-------- 5 >= 4\n",
      "                                                                |---------- class_name = Незачёт\n",
      "                                |------ 3 >= 5\n",
      "                                                |-------- 4 < 4\n",
      "                                                                |---------- class_name = Незачёт\n",
      "                                                |-------- 4 >= 4\n",
      "                                                                |---------- class_name = Успех\n",
      "                |---- 1 >= 3\n",
      "                                |------ 4 < 3\n",
      "                                                |-------- 4 < 2\n",
      "                                                                |---------- class_name = Незачёт\n",
      "                                                |-------- 4 >= 2\n",
      "                                                                |---------- class_name = Незачёт\n",
      "                                |------ 4 >= 3\n",
      "                                                |-------- class_name = Незачёт\n"
     ]
    }
   ],
   "source": [
    "tree_depth = 4\n",
    "model = build_nodes(X_train, Y_train, 0, tree_depth)\n",
    "\n",
    "tree_to_string(model)"
   ],
   "metadata": {
    "collapsed": false,
    "ExecuteTime": {
     "end_time": "2023-12-17T09:15:57.190491700Z",
     "start_time": "2023-12-17T09:15:57.075527500Z"
    }
   },
   "id": "f8da90513340a0c0"
  },
  {
   "cell_type": "markdown",
   "source": [
    "Предсказание на тестовых данных"
   ],
   "metadata": {
    "collapsed": false
   },
   "id": "8559f7762c8864d1"
  },
  {
   "cell_type": "code",
   "execution_count": 313,
   "outputs": [],
   "source": [
    "def predict(x_object_values, root):\n",
    "    if root.class_name is not None:\n",
    "        return root.class_name\n",
    "\n",
    "    if x_object_values[root.feature] < root.div_value:\n",
    "        return predict(x_object_values, root.left)\n",
    "    else:\n",
    "        return predict(x_object_values, root.right)\n",
    "\n",
    "\n",
    "\n",
    "def predict_all(x, model):\n",
    "    x_values = x.values\n",
    "    prediction = []\n",
    "    for row in x_values:\n",
    "        prediction.append(predict(row, model))\n",
    "    return prediction"
   ],
   "metadata": {
    "collapsed": false,
    "ExecuteTime": {
     "end_time": "2023-12-17T09:15:57.210485400Z",
     "start_time": "2023-12-17T09:15:57.171498Z"
    }
   },
   "id": "f4b4e8150feedb6f"
  },
  {
   "cell_type": "code",
   "execution_count": 314,
   "outputs": [
    {
     "data": {
      "text/plain": "[0,\n 0,\n 0,\n 0,\n 0,\n 0,\n 0,\n 0,\n 0,\n 0,\n 0,\n 0,\n 0,\n 0,\n 0,\n 0,\n 0,\n 0,\n 0,\n 0,\n 0,\n 0,\n 0,\n 0,\n 0,\n 0,\n 0,\n 0,\n 0]"
     },
     "execution_count": 314,
     "metadata": {},
     "output_type": "execute_result"
    }
   ],
   "source": [
    "prediction = predict_all(X_test, model)\n",
    "prediction"
   ],
   "metadata": {
    "collapsed": false,
    "ExecuteTime": {
     "end_time": "2023-12-17T09:15:57.271473100Z",
     "start_time": "2023-12-17T09:15:57.187491800Z"
    }
   },
   "id": "51723a4dabad355b"
  },
  {
   "cell_type": "code",
   "execution_count": 315,
   "outputs": [
    {
     "name": "stdout",
     "output_type": "stream",
     "text": [
      "Результат точности:  58.62068965517241\n"
     ]
    }
   ],
   "source": [
    "matches_count = 0\n",
    "for j in range(len(Y_test)):\n",
    "    if prediction[j] == Y_test.values[j]:\n",
    "        matches_count += 1\n",
    "predicted_percent = 100 * matches_count / len(Y_test)\n",
    "print(\"Результат точности: \", predicted_percent)"
   ],
   "metadata": {
    "collapsed": false,
    "ExecuteTime": {
     "end_time": "2023-12-17T09:15:57.275477600Z",
     "start_time": "2023-12-17T09:15:57.202485700Z"
    }
   },
   "id": "3964e2a1f914211c"
  },
  {
   "cell_type": "markdown",
   "source": [
    "Матрица ошибок"
   ],
   "metadata": {
    "collapsed": false
   },
   "id": "3223ec05119679f4"
  },
  {
   "cell_type": "code",
   "execution_count": 316,
   "outputs": [
    {
     "data": {
      "text/plain": "<Figure size 640x480 with 2 Axes>",
      "image/png": "[encoded data removed]"
     },
     "metadata": {},
     "output_type": "display_data"
    }
   ],
   "source": [
    "true_positive = 0\n",
    "true_negative = 0\n",
    "false_positive = 0\n",
    "false_negative = 0\n",
    "\n",
    "for i in range(len(Y_test)):\n",
    "    if prediction[i] == 1:\n",
    "        if Y_test.values[i] == 1:\n",
    "            true_positive += 1\n",
    "        else:\n",
    "            false_positive += 1\n",
    "    else:\n",
    "        if Y_test.values[i] == 1:\n",
    "            false_negative += 1\n",
    "        else:\n",
    "            true_negative += 1\n",
    "            \n",
    "confusion_matrix = [[true_positive, false_positive], [false_negative, true_negative]]\n",
    "cm_indeces = ['Positive', 'Negative']\n",
    "df_cm = pd.DataFrame(confusion_matrix, index = cm_indeces, columns = cm_indeces)\n",
    "sn.set_context(\"paper\", rc={\"font.size\":12,\"axes.titlesize\":8,\"axes.labelsize\":5})\n",
    "sn.heatmap(df_cm, annot=True, fmt='.0f', cmap=\"Greens\")\n",
    "plt.show()"
   ],
   "metadata": {
    "collapsed": false,
    "ExecuteTime": {
     "end_time": "2023-12-17T09:15:57.492393500Z",
     "start_time": "2023-12-17T09:15:57.234490600Z"
    }
   },
   "id": "ca94119fc0402878"
  },
  {
   "cell_type": "code",
   "execution_count": 317,
   "outputs": [
    {
     "ename": "ZeroDivisionError",
     "evalue": "division by zero",
     "output_type": "error",
     "traceback": [
      "\u001B[1;31m---------------------------------------------------------------------------\u001B[0m",
      "\u001B[1;31mZeroDivisionError\u001B[0m                         Traceback (most recent call last)",
      "Cell \u001B[1;32mIn[317], line 1\u001B[0m\n\u001B[1;32m----> 1\u001B[0m precision \u001B[38;5;241m=\u001B[39m \u001B[43mtrue_positive\u001B[49m\u001B[43m \u001B[49m\u001B[38;5;241;43m/\u001B[39;49m\u001B[43m \u001B[49m\u001B[43m(\u001B[49m\u001B[43mtrue_positive\u001B[49m\u001B[43m \u001B[49m\u001B[38;5;241;43m+\u001B[39;49m\u001B[43m \u001B[49m\u001B[43mfalse_positive\u001B[49m\u001B[43m)\u001B[49m\n\u001B[0;32m      2\u001B[0m \u001B[38;5;28mprint\u001B[39m(\u001B[38;5;124mf\u001B[39m\u001B[38;5;124m'\u001B[39m\u001B[38;5;124mprecision = \u001B[39m\u001B[38;5;132;01m{\u001B[39;00mprecision\u001B[38;5;250m \u001B[39m\u001B[38;5;241m*\u001B[39m\u001B[38;5;250m \u001B[39m\u001B[38;5;241m100\u001B[39m\u001B[38;5;132;01m}\u001B[39;00m\u001B[38;5;124m%\u001B[39m\u001B[38;5;124m'\u001B[39m)\n",
      "\u001B[1;31mZeroDivisionError\u001B[0m: division by zero"
     ]
    }
   ],
   "source": [
    "precision = true_positive / (true_positive + false_positive)\n",
    "print(f'precision = {precision * 100}%')"
   ],
   "metadata": {
    "collapsed": false,
    "ExecuteTime": {
     "end_time": "2023-12-17T09:15:57.539383Z",
     "start_time": "2023-12-17T09:15:57.435412200Z"
    }
   },
   "id": "648ea75e300557f"
  },
  {
   "cell_type": "code",
   "execution_count": null,
   "outputs": [],
   "source": [
    "recall = true_positive / (true_positive + false_negative)\n",
    "print(f'recall = {recall * 100}%')"
   ],
   "metadata": {
    "collapsed": false,
    "ExecuteTime": {
     "start_time": "2023-12-17T09:15:57.467400400Z"
    }
   },
   "id": "95d303337f7e659d"
  },
  {
   "cell_type": "markdown",
   "source": [
    "Оценка качества модели"
   ],
   "metadata": {
    "collapsed": false
   },
   "id": "ebf33c1d0c3a0349"
  },
  {
   "cell_type": "markdown",
   "source": [
    "AUC-ROC (площадь под кривой ошибок)"
   ],
   "metadata": {
    "collapsed": false
   },
   "id": "1362358cce0254e0"
  },
  {
   "cell_type": "code",
   "execution_count": null,
   "outputs": [],
   "source": [
    "def get_tpr_fpr(div_value, Y_test, probas):\n",
    "    predicted_values = []\n",
    "    for i in range(len(probas)):\n",
    "        if probas[i] >= div_value:\n",
    "            predicted_values.append(1)\n",
    "        else:\n",
    "            predicted_values.append(0)\n",
    "    true_positive = 0\n",
    "    true_negative = 0\n",
    "    false_positive = 0\n",
    "    false_negative = 0\n",
    "\n",
    "    for i in range(len(Y_test)):\n",
    "        if predicted_values[i] == 1:\n",
    "            if Y_test.values[i] == 1:\n",
    "                true_positive += 1\n",
    "            else:\n",
    "                false_positive += 1\n",
    "        else:\n",
    "            if Y_test.values[i] == 1:\n",
    "                false_negative += 1\n",
    "            else:\n",
    "                true_negative += 1\n",
    "\n",
    "    true_positive_rate = (true_positive) / (true_positive + false_negative)\n",
    "    false_positive_rate = (false_positive) / (false_positive + true_negative)\n",
    "    return true_positive_rate, false_positive_rate"
   ],
   "metadata": {
    "collapsed": false,
    "ExecuteTime": {
     "start_time": "2023-12-17T09:15:57.470399600Z"
    }
   },
   "id": "c17d4050e01052dc"
  },
  {
   "cell_type": "code",
   "execution_count": null,
   "outputs": [],
   "source": [
    "def get_all_tprs(div_values, Y_test, probas):\n",
    "    tprs = []\n",
    "    for div_value in div_values:\n",
    "        tprs.append(get_tpr_fpr(div_value, Y_test, probas)[0])\n",
    "    return tprs\n",
    "\n",
    "def get_all_fprs(div_values, Y_test, probas):\n",
    "    fprs = []\n",
    "    for div_value in div_values:\n",
    "        fprs.append(get_tpr_fpr(div_value, Y_test, probas)[1])\n",
    "    return fprs"
   ],
   "metadata": {
    "collapsed": false,
    "ExecuteTime": {
     "start_time": "2023-12-17T09:15:57.473400600Z"
    }
   },
   "id": "e9054f97adbf3935"
  },
  {
   "cell_type": "code",
   "execution_count": null,
   "outputs": [],
   "source": [
    "print(f'Исходная глубина дерева: {tree_depth}')"
   ],
   "metadata": {
    "collapsed": false,
    "ExecuteTime": {
     "start_time": "2023-12-17T09:15:57.475399200Z"
    }
   },
   "id": "792a0f90fa909605"
  },
  {
   "cell_type": "code",
   "execution_count": null,
   "outputs": [],
   "source": [
    "def calculate_proba(X_values, root, depth=0):\n",
    "    if root.class_name is not None:\n",
    "        return 1 / depth\n",
    "\n",
    "    if X_values[root.feature] < root.div_value:\n",
    "        return calculate_proba(X_values, root.left, depth + 1)\n",
    "    else:\n",
    "        return calculate_proba(X_values, root.right, depth + 1)"
   ],
   "metadata": {
    "collapsed": false,
    "ExecuteTime": {
     "start_time": "2023-12-17T09:15:57.477398500Z"
    }
   },
   "id": "7dd1a07b2c98191"
  },
  {
   "cell_type": "code",
   "execution_count": null,
   "outputs": [],
   "source": [
    "def calculate_probas(X, model):\n",
    "    X_values = X.values\n",
    "    probas = []\n",
    "    for row in X_values:\n",
    "        probas.append(calculate_proba(row, model))\n",
    "    return probas"
   ],
   "metadata": {
    "collapsed": false,
    "ExecuteTime": {
     "start_time": "2023-12-17T09:15:57.478398200Z"
    }
   },
   "id": "940eb4ffabc92d5f"
  },
  {
   "cell_type": "code",
   "execution_count": 318,
   "outputs": [],
   "source": [
    "probas = np.sort(calculate_probas(X_test, model))\n",
    "unique_probas = np.unique(probas)"
   ],
   "metadata": {
    "collapsed": false,
    "ExecuteTime": {
     "end_time": "2023-12-17T09:15:57.579373300Z",
     "start_time": "2023-12-17T09:15:57.495406300Z"
    }
   },
   "id": "fb74db3e2d72b317"
  },
  {
   "cell_type": "code",
   "execution_count": 319,
   "outputs": [],
   "source": [
    "tprs = get_all_tprs(np.unique(probas), Y_test, probas)\n",
    "fprs = get_all_fprs(np.unique(probas), Y_test, probas)"
   ],
   "metadata": {
    "collapsed": false,
    "ExecuteTime": {
     "end_time": "2023-12-17T09:15:57.638344500Z",
     "start_time": "2023-12-17T09:15:57.566368Z"
    }
   },
   "id": "9739a319fd3de802"
  },
  {
   "cell_type": "code",
   "execution_count": 320,
   "outputs": [
    {
     "data": {
      "text/plain": "[1.0, 0.0]"
     },
     "execution_count": 320,
     "metadata": {},
     "output_type": "execute_result"
    }
   ],
   "source": [
    "tprs"
   ],
   "metadata": {
    "collapsed": false,
    "ExecuteTime": {
     "end_time": "2023-12-17T09:15:57.673335300Z",
     "start_time": "2023-12-17T09:15:57.639344100Z"
    }
   },
   "id": "b04e48ac3762b6f4"
  },
  {
   "cell_type": "code",
   "execution_count": 321,
   "outputs": [
    {
     "data": {
      "text/plain": "[1.0, 0.058823529411764705]"
     },
     "execution_count": 321,
     "metadata": {},
     "output_type": "execute_result"
    }
   ],
   "source": [
    "fprs"
   ],
   "metadata": {
    "collapsed": false,
    "ExecuteTime": {
     "end_time": "2023-12-17T09:15:57.729321100Z",
     "start_time": "2023-12-17T09:15:57.673335300Z"
    }
   },
   "id": "3942985910ba5cb"
  },
  {
   "cell_type": "code",
   "execution_count": 322,
   "outputs": [
    {
     "data": {
      "text/plain": "<Figure size 640x480 with 1 Axes>",
      "image/png": "[encoded data removed]"
     },
     "metadata": {},
     "output_type": "display_data"
    }
   ],
   "source": [
    "plt.title('ROC curve', fontsize=12)\n",
    "plt.xlabel('FPR', fontsize=8)\n",
    "plt.ylabel('TPR', fontsize=8)\n",
    "plt.plot(fprs, tprs, 'b', fprs, fprs, 'r')\n",
    "plt.xlim(0, 1.2)\n",
    "plt.ylim(0, 1.2)\n",
    "plt.show()"
   ],
   "metadata": {
    "collapsed": false,
    "ExecuteTime": {
     "end_time": "2023-12-17T09:15:57.918253800Z",
     "start_time": "2023-12-17T09:15:57.716319200Z"
    }
   },
   "id": "988a12e541ddd1a3"
  },
  {
   "cell_type": "code",
   "execution_count": 323,
   "outputs": [],
   "source": [
    "def auc_roc_curve(true_labels, predicted_scores):\n",
    "    # Сортируем предсказанные оценки в порядке убывания\n",
    "    sorted_indices = np.argsort(predicted_scores)[::-1]\n",
    "    sorted_labels = true_labels[sorted_indices]\n",
    "    \n",
    "    # Находим количество положительных и отрицательных примеров\n",
    "    num_positive = np.sum(sorted_labels)\n",
    "    num_negative = len(sorted_labels) - num_positive\n",
    "    \n",
    "    # Инициализируем переменные для подсчета AUC ROC\n",
    "    tp = 0  # true positive\n",
    "    fp = 0  # false positive\n",
    "    auc_roc = 0\n",
    "    \n",
    "    # Проходим по отсортированным меткам и вычисляем AUC ROC\n",
    "    for label in sorted_labels:\n",
    "        if label == 1:\n",
    "            tp += 1\n",
    "        else:\n",
    "            fp += 1\n",
    "            auc_roc += tp / num_positive * (1 / num_negative)\n",
    "    \n",
    "    #return auc_roc\n",
    "    plt.figure()\n",
    "    lw = 2\n",
    "    plt.plot(fp, tp, color='darkorange', lw=lw, label='ROC curve (area = %0.2f)' % auc_roc)\n",
    "    plt.plot([0, 1], [0, 1], color='navy', lw=lw, linestyle='--')\n",
    "    plt.xlim([0.0, 1.0])\n",
    "    plt.ylim([0.0, 1.05])\n",
    "    plt.xlabel('False Positive Rate')\n",
    "    plt.ylabel('True Positive Rate')\n",
    "    plt.title('Receiver Operating Characteristic (ROC) Curve')\n",
    "    plt.legend(loc=\"lower right\")\n",
    "    plt.show()"
   ],
   "metadata": {
    "collapsed": false,
    "ExecuteTime": {
     "end_time": "2023-12-17T09:15:57.980233200Z",
     "start_time": "2023-12-17T09:15:57.923252500Z"
    }
   },
   "id": "5016855d9b6b786a"
  },
  {
   "cell_type": "code",
   "execution_count": 324,
   "outputs": [
    {
     "data": {
      "text/plain": "<Figure size 640x480 with 1 Axes>",
      "image/png": "[encoded data removed]"
     },
     "metadata": {},
     "output_type": "display_data"
    }
   ],
   "source": [
    "auc_roc_curve(Y_test.values, prediction)"
   ],
   "metadata": {
    "collapsed": false,
    "ExecuteTime": {
     "end_time": "2023-12-17T09:15:58.138197700Z",
     "start_time": "2023-12-17T09:15:57.935250Z"
    }
   },
   "id": "154490c43a598748"
  },
  {
   "cell_type": "code",
   "execution_count": 324,
   "outputs": [],
   "source": [],
   "metadata": {
    "collapsed": false,
    "ExecuteTime": {
     "end_time": "2023-12-17T09:15:58.209184900Z",
     "start_time": "2023-12-17T09:15:58.138197700Z"
    }
   },
   "id": "aee400180d3a437c"
  }
 ],
 "metadata": {
  "kernelspec": {
   "display_name": "Python 3",
   "language": "python",
   "name": "python3"
  },
  "language_info": {
   "codemirror_mode": {
    "name": "ipython",
    "version": 2
   },
   "file_extension": ".py",
   "mimetype": "text/x-python",
   "name": "python",
   "nbconvert_exporter": "python",
   "pygments_lexer": "ipython2",
   "version": "2.7.6"
  }
 },
 "nbformat": 4,
 "nbformat_minor": 5
}
