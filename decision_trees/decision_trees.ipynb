{
 "cells": [
  {
   "cell_type": "markdown",
   "source": [
    "Библиотеки для работы с данными и математикой"
   ],
   "metadata": {
    "collapsed": false
   },
   "id": "20762e143f1a76d"
  },
  {
   "cell_type": "code",
   "execution_count": 2560,
   "id": "initial_id",
   "metadata": {
    "collapsed": true,
    "ExecuteTime": {
     "end_time": "2023-12-18T08:48:44.891927Z",
     "start_time": "2023-12-18T08:48:44.254736400Z"
    }
   },
   "outputs": [],
   "source": [
    "import pandas as pd\n",
    "import numpy as np\n",
    "from matplotlib import pyplot as plt\n",
    "import random\n",
    "import math\n",
    "import seaborn as sn"
   ]
  },
  {
   "cell_type": "markdown",
   "source": [
    "Получение данных из файла"
   ],
   "metadata": {
    "collapsed": false
   },
   "id": "9534c30f6505c2d9"
  },
  {
   "cell_type": "code",
   "execution_count": 2561,
   "outputs": [
    {
     "data": {
      "text/plain": "     STUDENT ID  1  2  3  4  5  6  7  8  9  ...  23  24  25  26  27  28  29  \\\n0      STUDENT1  2  2  3  3  1  2  2  1  1  ...   1   1   3   2   1   2   1   \n1      STUDENT2  2  2  3  3  1  2  2  1  1  ...   1   1   3   2   3   2   2   \n2      STUDENT3  2  2  2  3  2  2  2  2  4  ...   1   1   2   2   1   1   2   \n3      STUDENT4  1  1  1  3  1  2  1  2  1  ...   1   2   3   2   2   1   3   \n4      STUDENT5  2  2  1  3  2  2  1  3  1  ...   2   1   2   2   2   1   2   \n..          ... .. .. .. .. .. .. .. .. ..  ...  ..  ..  ..  ..  ..  ..  ..   \n140  STUDENT141  2  1  2  3  1  1  2  1  1  ...   1   1   2   1   2   1   3   \n141  STUDENT142  1  1  2  4  2  2  2  1  4  ...   1   1   3   2   2   1   5   \n142  STUDENT143  1  1  1  4  2  2  2  1  1  ...   1   1   3   3   2   1   4   \n143  STUDENT144  2  1  2  4  1  1  1  5  2  ...   2   1   2   1   2   1   5   \n144  STUDENT145  1  1  1  5  2  2  2  3  1  ...   2   1   3   2   3   1   5   \n\n     30  COURSE ID  GRADE  \n0     1          1      1  \n1     3          1      1  \n2     2          1      1  \n3     2          1      1  \n4     2          1      1  \n..   ..        ...    ...  \n140   3          9      5  \n141   3          9      5  \n142   3          9      1  \n143   3          9      4  \n144   4          9      3  \n\n[145 rows x 33 columns]",
      "text/html": "<div>\n<style scoped>\n    .dataframe tbody tr th:only-of-type {\n        vertical-align: middle;\n    }\n\n    .dataframe tbody tr th {\n        vertical-align: top;\n    }\n\n    .dataframe thead th {\n        text-align: right;\n    }\n</style>\n<table border=\"1\" class=\"dataframe\">\n  <thead>\n    <tr style=\"text-align: right;\">\n      <th></th>\n      <th>STUDENT ID</th>\n      <th>1</th>\n      <th>2</th>\n      <th>3</th>\n      <th>4</th>\n      <th>5</th>\n      <th>6</th>\n      <th>7</th>\n      <th>8</th>\n      <th>9</th>\n      <th>...</th>\n      <th>23</th>\n      <th>24</th>\n      <th>25</th>\n      <th>26</th>\n      <th>27</th>\n      <th>28</th>\n      <th>29</th>\n      <th>30</th>\n      <th>COURSE ID</th>\n      <th>GRADE</th>\n    </tr>\n  </thead>\n  <tbody>\n    <tr>\n      <th>0</th>\n      <td>STUDENT1</td>\n      <td>2</td>\n      <td>2</td>\n      <td>3</td>\n      <td>3</td>\n      <td>1</td>\n      <td>2</td>\n      <td>2</td>\n      <td>1</td>\n      <td>1</td>\n      <td>...</td>\n      <td>1</td>\n      <td>1</td>\n      <td>3</td>\n      <td>2</td>\n      <td>1</td>\n      <td>2</td>\n      <td>1</td>\n      <td>1</td>\n      <td>1</td>\n      <td>1</td>\n    </tr>\n    <tr>\n      <th>1</th>\n      <td>STUDENT2</td>\n      <td>2</td>\n      <td>2</td>\n      <td>3</td>\n      <td>3</td>\n      <td>1</td>\n      <td>2</td>\n      <td>2</td>\n      <td>1</td>\n      <td>1</td>\n      <td>...</td>\n      <td>1</td>\n      <td>1</td>\n      <td>3</td>\n      <td>2</td>\n      <td>3</td>\n      <td>2</td>\n      <td>2</td>\n      <td>3</td>\n      <td>1</td>\n      <td>1</td>\n    </tr>\n    <tr>\n      <th>2</th>\n      <td>STUDENT3</td>\n      <td>2</td>\n      <td>2</td>\n      <td>2</td>\n      <td>3</td>\n      <td>2</td>\n      <td>2</td>\n      <td>2</td>\n      <td>2</td>\n      <td>4</td>\n      <td>...</td>\n      <td>1</td>\n      <td>1</td>\n      <td>2</td>\n      <td>2</td>\n      <td>1</td>\n      <td>1</td>\n      <td>2</td>\n      <td>2</td>\n      <td>1</td>\n      <td>1</td>\n    </tr>\n    <tr>\n      <th>3</th>\n      <td>STUDENT4</td>\n      <td>1</td>\n      <td>1</td>\n      <td>1</td>\n      <td>3</td>\n      <td>1</td>\n      <td>2</td>\n      <td>1</td>\n      <td>2</td>\n      <td>1</td>\n      <td>...</td>\n      <td>1</td>\n      <td>2</td>\n      <td>3</td>\n      <td>2</td>\n      <td>2</td>\n      <td>1</td>\n      <td>3</td>\n      <td>2</td>\n      <td>1</td>\n      <td>1</td>\n    </tr>\n    <tr>\n      <th>4</th>\n      <td>STUDENT5</td>\n      <td>2</td>\n      <td>2</td>\n      <td>1</td>\n      <td>3</td>\n      <td>2</td>\n      <td>2</td>\n      <td>1</td>\n      <td>3</td>\n      <td>1</td>\n      <td>...</td>\n      <td>2</td>\n      <td>1</td>\n      <td>2</td>\n      <td>2</td>\n      <td>2</td>\n      <td>1</td>\n      <td>2</td>\n      <td>2</td>\n      <td>1</td>\n      <td>1</td>\n    </tr>\n    <tr>\n      <th>...</th>\n      <td>...</td>\n      <td>...</td>\n      <td>...</td>\n      <td>...</td>\n      <td>...</td>\n      <td>...</td>\n      <td>...</td>\n      <td>...</td>\n      <td>...</td>\n      <td>...</td>\n      <td>...</td>\n      <td>...</td>\n      <td>...</td>\n      <td>...</td>\n      <td>...</td>\n      <td>...</td>\n      <td>...</td>\n      <td>...</td>\n      <td>...</td>\n      <td>...</td>\n      <td>...</td>\n    </tr>\n    <tr>\n      <th>140</th>\n      <td>STUDENT141</td>\n      <td>2</td>\n      <td>1</td>\n      <td>2</td>\n      <td>3</td>\n      <td>1</td>\n      <td>1</td>\n      <td>2</td>\n      <td>1</td>\n      <td>1</td>\n      <td>...</td>\n      <td>1</td>\n      <td>1</td>\n      <td>2</td>\n      <td>1</td>\n      <td>2</td>\n      <td>1</td>\n      <td>3</td>\n      <td>3</td>\n      <td>9</td>\n      <td>5</td>\n    </tr>\n    <tr>\n      <th>141</th>\n      <td>STUDENT142</td>\n      <td>1</td>\n      <td>1</td>\n      <td>2</td>\n      <td>4</td>\n      <td>2</td>\n      <td>2</td>\n      <td>2</td>\n      <td>1</td>\n      <td>4</td>\n      <td>...</td>\n      <td>1</td>\n      <td>1</td>\n      <td>3</td>\n      <td>2</td>\n      <td>2</td>\n      <td>1</td>\n      <td>5</td>\n      <td>3</td>\n      <td>9</td>\n      <td>5</td>\n    </tr>\n    <tr>\n      <th>142</th>\n      <td>STUDENT143</td>\n      <td>1</td>\n      <td>1</td>\n      <td>1</td>\n      <td>4</td>\n      <td>2</td>\n      <td>2</td>\n      <td>2</td>\n      <td>1</td>\n      <td>1</td>\n      <td>...</td>\n      <td>1</td>\n      <td>1</td>\n      <td>3</td>\n      <td>3</td>\n      <td>2</td>\n      <td>1</td>\n      <td>4</td>\n      <td>3</td>\n      <td>9</td>\n      <td>1</td>\n    </tr>\n    <tr>\n      <th>143</th>\n      <td>STUDENT144</td>\n      <td>2</td>\n      <td>1</td>\n      <td>2</td>\n      <td>4</td>\n      <td>1</td>\n      <td>1</td>\n      <td>1</td>\n      <td>5</td>\n      <td>2</td>\n      <td>...</td>\n      <td>2</td>\n      <td>1</td>\n      <td>2</td>\n      <td>1</td>\n      <td>2</td>\n      <td>1</td>\n      <td>5</td>\n      <td>3</td>\n      <td>9</td>\n      <td>4</td>\n    </tr>\n    <tr>\n      <th>144</th>\n      <td>STUDENT145</td>\n      <td>1</td>\n      <td>1</td>\n      <td>1</td>\n      <td>5</td>\n      <td>2</td>\n      <td>2</td>\n      <td>2</td>\n      <td>3</td>\n      <td>1</td>\n      <td>...</td>\n      <td>2</td>\n      <td>1</td>\n      <td>3</td>\n      <td>2</td>\n      <td>3</td>\n      <td>1</td>\n      <td>5</td>\n      <td>4</td>\n      <td>9</td>\n      <td>3</td>\n    </tr>\n  </tbody>\n</table>\n<p>145 rows × 33 columns</p>\n</div>"
     },
     "execution_count": 2561,
     "metadata": {},
     "output_type": "execute_result"
    }
   ],
   "source": [
    "df = pd.read_csv('../resources/Higher_Education_Students_Performance_Evaluation.csv')\n",
    "df"
   ],
   "metadata": {
    "collapsed": false,
    "ExecuteTime": {
     "end_time": "2023-12-18T08:48:45.124632100Z",
     "start_time": "2023-12-18T08:48:44.899957400Z"
    }
   },
   "id": "8f34065e521146be"
  },
  {
   "cell_type": "markdown",
   "source": [
    "Добавляем метрику SUCCESS по зданию: студент успешный/неуспешный на основании грейда"
   ],
   "metadata": {
    "collapsed": false
   },
   "id": "5cef9039d0eb9cf5"
  },
  {
   "cell_type": "code",
   "execution_count": 2562,
   "outputs": [
    {
     "data": {
      "text/plain": "     STUDENT ID  1  2  3  4  5  6  7  8  9  ...  24  25  26  27  28  29  30  \\\n0      STUDENT1  2  2  3  3  1  2  2  1  1  ...   1   3   2   1   2   1   1   \n1      STUDENT2  2  2  3  3  1  2  2  1  1  ...   1   3   2   3   2   2   3   \n2      STUDENT3  2  2  2  3  2  2  2  2  4  ...   1   2   2   1   1   2   2   \n3      STUDENT4  1  1  1  3  1  2  1  2  1  ...   2   3   2   2   1   3   2   \n4      STUDENT5  2  2  1  3  2  2  1  3  1  ...   1   2   2   2   1   2   2   \n..          ... .. .. .. .. .. .. .. .. ..  ...  ..  ..  ..  ..  ..  ..  ..   \n140  STUDENT141  2  1  2  3  1  1  2  1  1  ...   1   2   1   2   1   3   3   \n141  STUDENT142  1  1  2  4  2  2  2  1  4  ...   1   3   2   2   1   5   3   \n142  STUDENT143  1  1  1  4  2  2  2  1  1  ...   1   3   3   2   1   4   3   \n143  STUDENT144  2  1  2  4  1  1  1  5  2  ...   1   2   1   2   1   5   3   \n144  STUDENT145  1  1  1  5  2  2  2  3  1  ...   1   3   2   3   1   5   4   \n\n     COURSE ID  GRADE  SUCCESS  \n0            1      1        0  \n1            1      1        0  \n2            1      1        0  \n3            1      1        0  \n4            1      1        0  \n..         ...    ...      ...  \n140          9      5        1  \n141          9      5        1  \n142          9      1        0  \n143          9      4        1  \n144          9      3        1  \n\n[145 rows x 34 columns]",
      "text/html": "<div>\n<style scoped>\n    .dataframe tbody tr th:only-of-type {\n        vertical-align: middle;\n    }\n\n    .dataframe tbody tr th {\n        vertical-align: top;\n    }\n\n    .dataframe thead th {\n        text-align: right;\n    }\n</style>\n<table border=\"1\" class=\"dataframe\">\n  <thead>\n    <tr style=\"text-align: right;\">\n      <th></th>\n      <th>STUDENT ID</th>\n      <th>1</th>\n      <th>2</th>\n      <th>3</th>\n      <th>4</th>\n      <th>5</th>\n      <th>6</th>\n      <th>7</th>\n      <th>8</th>\n      <th>9</th>\n      <th>...</th>\n      <th>24</th>\n      <th>25</th>\n      <th>26</th>\n      <th>27</th>\n      <th>28</th>\n      <th>29</th>\n      <th>30</th>\n      <th>COURSE ID</th>\n      <th>GRADE</th>\n      <th>SUCCESS</th>\n    </tr>\n  </thead>\n  <tbody>\n    <tr>\n      <th>0</th>\n      <td>STUDENT1</td>\n      <td>2</td>\n      <td>2</td>\n      <td>3</td>\n      <td>3</td>\n      <td>1</td>\n      <td>2</td>\n      <td>2</td>\n      <td>1</td>\n      <td>1</td>\n      <td>...</td>\n      <td>1</td>\n      <td>3</td>\n      <td>2</td>\n      <td>1</td>\n      <td>2</td>\n      <td>1</td>\n      <td>1</td>\n      <td>1</td>\n      <td>1</td>\n      <td>0</td>\n    </tr>\n    <tr>\n      <th>1</th>\n      <td>STUDENT2</td>\n      <td>2</td>\n      <td>2</td>\n      <td>3</td>\n      <td>3</td>\n      <td>1</td>\n      <td>2</td>\n      <td>2</td>\n      <td>1</td>\n      <td>1</td>\n      <td>...</td>\n      <td>1</td>\n      <td>3</td>\n      <td>2</td>\n      <td>3</td>\n      <td>2</td>\n      <td>2</td>\n      <td>3</td>\n      <td>1</td>\n      <td>1</td>\n      <td>0</td>\n    </tr>\n    <tr>\n      <th>2</th>\n      <td>STUDENT3</td>\n      <td>2</td>\n      <td>2</td>\n      <td>2</td>\n      <td>3</td>\n      <td>2</td>\n      <td>2</td>\n      <td>2</td>\n      <td>2</td>\n      <td>4</td>\n      <td>...</td>\n      <td>1</td>\n      <td>2</td>\n      <td>2</td>\n      <td>1</td>\n      <td>1</td>\n      <td>2</td>\n      <td>2</td>\n      <td>1</td>\n      <td>1</td>\n      <td>0</td>\n    </tr>\n    <tr>\n      <th>3</th>\n      <td>STUDENT4</td>\n      <td>1</td>\n      <td>1</td>\n      <td>1</td>\n      <td>3</td>\n      <td>1</td>\n      <td>2</td>\n      <td>1</td>\n      <td>2</td>\n      <td>1</td>\n      <td>...</td>\n      <td>2</td>\n      <td>3</td>\n      <td>2</td>\n      <td>2</td>\n      <td>1</td>\n      <td>3</td>\n      <td>2</td>\n      <td>1</td>\n      <td>1</td>\n      <td>0</td>\n    </tr>\n    <tr>\n      <th>4</th>\n      <td>STUDENT5</td>\n      <td>2</td>\n      <td>2</td>\n      <td>1</td>\n      <td>3</td>\n      <td>2</td>\n      <td>2</td>\n      <td>1</td>\n      <td>3</td>\n      <td>1</td>\n      <td>...</td>\n      <td>1</td>\n      <td>2</td>\n      <td>2</td>\n      <td>2</td>\n      <td>1</td>\n      <td>2</td>\n      <td>2</td>\n      <td>1</td>\n      <td>1</td>\n      <td>0</td>\n    </tr>\n    <tr>\n      <th>...</th>\n      <td>...</td>\n      <td>...</td>\n      <td>...</td>\n      <td>...</td>\n      <td>...</td>\n      <td>...</td>\n      <td>...</td>\n      <td>...</td>\n      <td>...</td>\n      <td>...</td>\n      <td>...</td>\n      <td>...</td>\n      <td>...</td>\n      <td>...</td>\n      <td>...</td>\n      <td>...</td>\n      <td>...</td>\n      <td>...</td>\n      <td>...</td>\n      <td>...</td>\n      <td>...</td>\n    </tr>\n    <tr>\n      <th>140</th>\n      <td>STUDENT141</td>\n      <td>2</td>\n      <td>1</td>\n      <td>2</td>\n      <td>3</td>\n      <td>1</td>\n      <td>1</td>\n      <td>2</td>\n      <td>1</td>\n      <td>1</td>\n      <td>...</td>\n      <td>1</td>\n      <td>2</td>\n      <td>1</td>\n      <td>2</td>\n      <td>1</td>\n      <td>3</td>\n      <td>3</td>\n      <td>9</td>\n      <td>5</td>\n      <td>1</td>\n    </tr>\n    <tr>\n      <th>141</th>\n      <td>STUDENT142</td>\n      <td>1</td>\n      <td>1</td>\n      <td>2</td>\n      <td>4</td>\n      <td>2</td>\n      <td>2</td>\n      <td>2</td>\n      <td>1</td>\n      <td>4</td>\n      <td>...</td>\n      <td>1</td>\n      <td>3</td>\n      <td>2</td>\n      <td>2</td>\n      <td>1</td>\n      <td>5</td>\n      <td>3</td>\n      <td>9</td>\n      <td>5</td>\n      <td>1</td>\n    </tr>\n    <tr>\n      <th>142</th>\n      <td>STUDENT143</td>\n      <td>1</td>\n      <td>1</td>\n      <td>1</td>\n      <td>4</td>\n      <td>2</td>\n      <td>2</td>\n      <td>2</td>\n      <td>1</td>\n      <td>1</td>\n      <td>...</td>\n      <td>1</td>\n      <td>3</td>\n      <td>3</td>\n      <td>2</td>\n      <td>1</td>\n      <td>4</td>\n      <td>3</td>\n      <td>9</td>\n      <td>1</td>\n      <td>0</td>\n    </tr>\n    <tr>\n      <th>143</th>\n      <td>STUDENT144</td>\n      <td>2</td>\n      <td>1</td>\n      <td>2</td>\n      <td>4</td>\n      <td>1</td>\n      <td>1</td>\n      <td>1</td>\n      <td>5</td>\n      <td>2</td>\n      <td>...</td>\n      <td>1</td>\n      <td>2</td>\n      <td>1</td>\n      <td>2</td>\n      <td>1</td>\n      <td>5</td>\n      <td>3</td>\n      <td>9</td>\n      <td>4</td>\n      <td>1</td>\n    </tr>\n    <tr>\n      <th>144</th>\n      <td>STUDENT145</td>\n      <td>1</td>\n      <td>1</td>\n      <td>1</td>\n      <td>5</td>\n      <td>2</td>\n      <td>2</td>\n      <td>2</td>\n      <td>3</td>\n      <td>1</td>\n      <td>...</td>\n      <td>1</td>\n      <td>3</td>\n      <td>2</td>\n      <td>3</td>\n      <td>1</td>\n      <td>5</td>\n      <td>4</td>\n      <td>9</td>\n      <td>3</td>\n      <td>1</td>\n    </tr>\n  </tbody>\n</table>\n<p>145 rows × 34 columns</p>\n</div>"
     },
     "execution_count": 2562,
     "metadata": {},
     "output_type": "execute_result"
    }
   ],
   "source": [
    "df['SUCCESS'] = df['GRADE'] > 1\n",
    "df['SUCCESS'] = df['SUCCESS'].astype(int)\n",
    "df"
   ],
   "metadata": {
    "collapsed": false,
    "ExecuteTime": {
     "end_time": "2023-12-18T08:48:45.238534600Z",
     "start_time": "2023-12-18T08:48:45.052020100Z"
    }
   },
   "id": "cbec5d26adda6dfb"
  },
  {
   "cell_type": "markdown",
   "source": [
    "Удалим столбец с номером, так как признаком он не является"
   ],
   "metadata": {
    "collapsed": false
   },
   "id": "9ca9684132c70871"
  },
  {
   "cell_type": "code",
   "execution_count": 2563,
   "outputs": [
    {
     "data": {
      "text/plain": "     1  2  3  4  5  6  7  8  9  10  ...  24  25  26  27  28  29  30  \\\n0    2  2  3  3  1  2  2  1  1   1  ...   1   3   2   1   2   1   1   \n1    2  2  3  3  1  2  2  1  1   1  ...   1   3   2   3   2   2   3   \n2    2  2  2  3  2  2  2  2  4   2  ...   1   2   2   1   1   2   2   \n3    1  1  1  3  1  2  1  2  1   2  ...   2   3   2   2   1   3   2   \n4    2  2  1  3  2  2  1  3  1   4  ...   1   2   2   2   1   2   2   \n..  .. .. .. .. .. .. .. .. ..  ..  ...  ..  ..  ..  ..  ..  ..  ..   \n140  2  1  2  3  1  1  2  1  1   2  ...   1   2   1   2   1   3   3   \n141  1  1  2  4  2  2  2  1  4   2  ...   1   3   2   2   1   5   3   \n142  1  1  1  4  2  2  2  1  1   1  ...   1   3   3   2   1   4   3   \n143  2  1  2  4  1  1  1  5  2   3  ...   1   2   1   2   1   5   3   \n144  1  1  1  5  2  2  2  3  1   1  ...   1   3   2   3   1   5   4   \n\n     COURSE ID  GRADE  SUCCESS  \n0            1      1        0  \n1            1      1        0  \n2            1      1        0  \n3            1      1        0  \n4            1      1        0  \n..         ...    ...      ...  \n140          9      5        1  \n141          9      5        1  \n142          9      1        0  \n143          9      4        1  \n144          9      3        1  \n\n[145 rows x 33 columns]",
      "text/html": "<div>\n<style scoped>\n    .dataframe tbody tr th:only-of-type {\n        vertical-align: middle;\n    }\n\n    .dataframe tbody tr th {\n        vertical-align: top;\n    }\n\n    .dataframe thead th {\n        text-align: right;\n    }\n</style>\n<table border=\"1\" class=\"dataframe\">\n  <thead>\n    <tr style=\"text-align: right;\">\n      <th></th>\n      <th>1</th>\n      <th>2</th>\n      <th>3</th>\n      <th>4</th>\n      <th>5</th>\n      <th>6</th>\n      <th>7</th>\n      <th>8</th>\n      <th>9</th>\n      <th>10</th>\n      <th>...</th>\n      <th>24</th>\n      <th>25</th>\n      <th>26</th>\n      <th>27</th>\n      <th>28</th>\n      <th>29</th>\n      <th>30</th>\n      <th>COURSE ID</th>\n      <th>GRADE</th>\n      <th>SUCCESS</th>\n    </tr>\n  </thead>\n  <tbody>\n    <tr>\n      <th>0</th>\n      <td>2</td>\n      <td>2</td>\n      <td>3</td>\n      <td>3</td>\n      <td>1</td>\n      <td>2</td>\n      <td>2</td>\n      <td>1</td>\n      <td>1</td>\n      <td>1</td>\n      <td>...</td>\n      <td>1</td>\n      <td>3</td>\n      <td>2</td>\n      <td>1</td>\n      <td>2</td>\n      <td>1</td>\n      <td>1</td>\n      <td>1</td>\n      <td>1</td>\n      <td>0</td>\n    </tr>\n    <tr>\n      <th>1</th>\n      <td>2</td>\n      <td>2</td>\n      <td>3</td>\n      <td>3</td>\n      <td>1</td>\n      <td>2</td>\n      <td>2</td>\n      <td>1</td>\n      <td>1</td>\n      <td>1</td>\n      <td>...</td>\n      <td>1</td>\n      <td>3</td>\n      <td>2</td>\n      <td>3</td>\n      <td>2</td>\n      <td>2</td>\n      <td>3</td>\n      <td>1</td>\n      <td>1</td>\n      <td>0</td>\n    </tr>\n    <tr>\n      <th>2</th>\n      <td>2</td>\n      <td>2</td>\n      <td>2</td>\n      <td>3</td>\n      <td>2</td>\n      <td>2</td>\n      <td>2</td>\n      <td>2</td>\n      <td>4</td>\n      <td>2</td>\n      <td>...</td>\n      <td>1</td>\n      <td>2</td>\n      <td>2</td>\n      <td>1</td>\n      <td>1</td>\n      <td>2</td>\n      <td>2</td>\n      <td>1</td>\n      <td>1</td>\n      <td>0</td>\n    </tr>\n    <tr>\n      <th>3</th>\n      <td>1</td>\n      <td>1</td>\n      <td>1</td>\n      <td>3</td>\n      <td>1</td>\n      <td>2</td>\n      <td>1</td>\n      <td>2</td>\n      <td>1</td>\n      <td>2</td>\n      <td>...</td>\n      <td>2</td>\n      <td>3</td>\n      <td>2</td>\n      <td>2</td>\n      <td>1</td>\n      <td>3</td>\n      <td>2</td>\n      <td>1</td>\n      <td>1</td>\n      <td>0</td>\n    </tr>\n    <tr>\n      <th>4</th>\n      <td>2</td>\n      <td>2</td>\n      <td>1</td>\n      <td>3</td>\n      <td>2</td>\n      <td>2</td>\n      <td>1</td>\n      <td>3</td>\n      <td>1</td>\n      <td>4</td>\n      <td>...</td>\n      <td>1</td>\n      <td>2</td>\n      <td>2</td>\n      <td>2</td>\n      <td>1</td>\n      <td>2</td>\n      <td>2</td>\n      <td>1</td>\n      <td>1</td>\n      <td>0</td>\n    </tr>\n    <tr>\n      <th>...</th>\n      <td>...</td>\n      <td>...</td>\n      <td>...</td>\n      <td>...</td>\n      <td>...</td>\n      <td>...</td>\n      <td>...</td>\n      <td>...</td>\n      <td>...</td>\n      <td>...</td>\n      <td>...</td>\n      <td>...</td>\n      <td>...</td>\n      <td>...</td>\n      <td>...</td>\n      <td>...</td>\n      <td>...</td>\n      <td>...</td>\n      <td>...</td>\n      <td>...</td>\n      <td>...</td>\n    </tr>\n    <tr>\n      <th>140</th>\n      <td>2</td>\n      <td>1</td>\n      <td>2</td>\n      <td>3</td>\n      <td>1</td>\n      <td>1</td>\n      <td>2</td>\n      <td>1</td>\n      <td>1</td>\n      <td>2</td>\n      <td>...</td>\n      <td>1</td>\n      <td>2</td>\n      <td>1</td>\n      <td>2</td>\n      <td>1</td>\n      <td>3</td>\n      <td>3</td>\n      <td>9</td>\n      <td>5</td>\n      <td>1</td>\n    </tr>\n    <tr>\n      <th>141</th>\n      <td>1</td>\n      <td>1</td>\n      <td>2</td>\n      <td>4</td>\n      <td>2</td>\n      <td>2</td>\n      <td>2</td>\n      <td>1</td>\n      <td>4</td>\n      <td>2</td>\n      <td>...</td>\n      <td>1</td>\n      <td>3</td>\n      <td>2</td>\n      <td>2</td>\n      <td>1</td>\n      <td>5</td>\n      <td>3</td>\n      <td>9</td>\n      <td>5</td>\n      <td>1</td>\n    </tr>\n    <tr>\n      <th>142</th>\n      <td>1</td>\n      <td>1</td>\n      <td>1</td>\n      <td>4</td>\n      <td>2</td>\n      <td>2</td>\n      <td>2</td>\n      <td>1</td>\n      <td>1</td>\n      <td>1</td>\n      <td>...</td>\n      <td>1</td>\n      <td>3</td>\n      <td>3</td>\n      <td>2</td>\n      <td>1</td>\n      <td>4</td>\n      <td>3</td>\n      <td>9</td>\n      <td>1</td>\n      <td>0</td>\n    </tr>\n    <tr>\n      <th>143</th>\n      <td>2</td>\n      <td>1</td>\n      <td>2</td>\n      <td>4</td>\n      <td>1</td>\n      <td>1</td>\n      <td>1</td>\n      <td>5</td>\n      <td>2</td>\n      <td>3</td>\n      <td>...</td>\n      <td>1</td>\n      <td>2</td>\n      <td>1</td>\n      <td>2</td>\n      <td>1</td>\n      <td>5</td>\n      <td>3</td>\n      <td>9</td>\n      <td>4</td>\n      <td>1</td>\n    </tr>\n    <tr>\n      <th>144</th>\n      <td>1</td>\n      <td>1</td>\n      <td>1</td>\n      <td>5</td>\n      <td>2</td>\n      <td>2</td>\n      <td>2</td>\n      <td>3</td>\n      <td>1</td>\n      <td>1</td>\n      <td>...</td>\n      <td>1</td>\n      <td>3</td>\n      <td>2</td>\n      <td>3</td>\n      <td>1</td>\n      <td>5</td>\n      <td>4</td>\n      <td>9</td>\n      <td>3</td>\n      <td>1</td>\n    </tr>\n  </tbody>\n</table>\n<p>145 rows × 33 columns</p>\n</div>"
     },
     "execution_count": 2563,
     "metadata": {},
     "output_type": "execute_result"
    }
   ],
   "source": [
    "students_id = df['STUDENT ID']\n",
    "df = df.drop('STUDENT ID', axis=1)\n",
    "df"
   ],
   "metadata": {
    "collapsed": false,
    "ExecuteTime": {
     "end_time": "2023-12-18T08:48:45.478809700Z",
     "start_time": "2023-12-18T08:48:45.215443600Z"
    }
   },
   "id": "a8b2cda70dd43bbb"
  },
  {
   "cell_type": "markdown",
   "source": [
    "Разделение данных"
   ],
   "metadata": {
    "collapsed": false
   },
   "id": "bd27858a84c123e5"
  },
  {
   "cell_type": "code",
   "execution_count": 2564,
   "outputs": [],
   "source": [
    "X = df.drop('SUCCESS', axis=1)\n",
    "X = X.drop('GRADE', axis=1)\n",
    "Y = df['SUCCESS']"
   ],
   "metadata": {
    "collapsed": false,
    "ExecuteTime": {
     "end_time": "2023-12-18T08:48:45.730738500Z",
     "start_time": "2023-12-18T08:48:45.393673Z"
    }
   },
   "id": "864f48ab23e5bfb5"
  },
  {
   "cell_type": "code",
   "execution_count": 2565,
   "outputs": [
    {
     "data": {
      "text/plain": "     1  2  3  4  5  6  7  8  9  10  ...  22  23  24  25  26  27  28  29  30  \\\n0    2  2  3  3  1  2  2  1  1   1  ...   1   1   1   3   2   1   2   1   1   \n1    2  2  3  3  1  2  2  1  1   1  ...   1   1   1   3   2   3   2   2   3   \n2    2  2  2  3  2  2  2  2  4   2  ...   1   1   1   2   2   1   1   2   2   \n3    1  1  1  3  1  2  1  2  1   2  ...   1   1   2   3   2   2   1   3   2   \n4    2  2  1  3  2  2  1  3  1   4  ...   1   2   1   2   2   2   1   2   2   \n..  .. .. .. .. .. .. .. .. ..  ..  ...  ..  ..  ..  ..  ..  ..  ..  ..  ..   \n140  2  1  2  3  1  1  2  1  1   2  ...   1   1   1   2   1   2   1   3   3   \n141  1  1  2  4  2  2  2  1  4   2  ...   2   1   1   3   2   2   1   5   3   \n142  1  1  1  4  2  2  2  1  1   1  ...   1   1   1   3   3   2   1   4   3   \n143  2  1  2  4  1  1  1  5  2   3  ...   1   2   1   2   1   2   1   5   3   \n144  1  1  1  5  2  2  2  3  1   1  ...   1   2   1   3   2   3   1   5   4   \n\n     COURSE ID  \n0            1  \n1            1  \n2            1  \n3            1  \n4            1  \n..         ...  \n140          9  \n141          9  \n142          9  \n143          9  \n144          9  \n\n[145 rows x 31 columns]",
      "text/html": "<div>\n<style scoped>\n    .dataframe tbody tr th:only-of-type {\n        vertical-align: middle;\n    }\n\n    .dataframe tbody tr th {\n        vertical-align: top;\n    }\n\n    .dataframe thead th {\n        text-align: right;\n    }\n</style>\n<table border=\"1\" class=\"dataframe\">\n  <thead>\n    <tr style=\"text-align: right;\">\n      <th></th>\n      <th>1</th>\n      <th>2</th>\n      <th>3</th>\n      <th>4</th>\n      <th>5</th>\n      <th>6</th>\n      <th>7</th>\n      <th>8</th>\n      <th>9</th>\n      <th>10</th>\n      <th>...</th>\n      <th>22</th>\n      <th>23</th>\n      <th>24</th>\n      <th>25</th>\n      <th>26</th>\n      <th>27</th>\n      <th>28</th>\n      <th>29</th>\n      <th>30</th>\n      <th>COURSE ID</th>\n    </tr>\n  </thead>\n  <tbody>\n    <tr>\n      <th>0</th>\n      <td>2</td>\n      <td>2</td>\n      <td>3</td>\n      <td>3</td>\n      <td>1</td>\n      <td>2</td>\n      <td>2</td>\n      <td>1</td>\n      <td>1</td>\n      <td>1</td>\n      <td>...</td>\n      <td>1</td>\n      <td>1</td>\n      <td>1</td>\n      <td>3</td>\n      <td>2</td>\n      <td>1</td>\n      <td>2</td>\n      <td>1</td>\n      <td>1</td>\n      <td>1</td>\n    </tr>\n    <tr>\n      <th>1</th>\n      <td>2</td>\n      <td>2</td>\n      <td>3</td>\n      <td>3</td>\n      <td>1</td>\n      <td>2</td>\n      <td>2</td>\n      <td>1</td>\n      <td>1</td>\n      <td>1</td>\n      <td>...</td>\n      <td>1</td>\n      <td>1</td>\n      <td>1</td>\n      <td>3</td>\n      <td>2</td>\n      <td>3</td>\n      <td>2</td>\n      <td>2</td>\n      <td>3</td>\n      <td>1</td>\n    </tr>\n    <tr>\n      <th>2</th>\n      <td>2</td>\n      <td>2</td>\n      <td>2</td>\n      <td>3</td>\n      <td>2</td>\n      <td>2</td>\n      <td>2</td>\n      <td>2</td>\n      <td>4</td>\n      <td>2</td>\n      <td>...</td>\n      <td>1</td>\n      <td>1</td>\n      <td>1</td>\n      <td>2</td>\n      <td>2</td>\n      <td>1</td>\n      <td>1</td>\n      <td>2</td>\n      <td>2</td>\n      <td>1</td>\n    </tr>\n    <tr>\n      <th>3</th>\n      <td>1</td>\n      <td>1</td>\n      <td>1</td>\n      <td>3</td>\n      <td>1</td>\n      <td>2</td>\n      <td>1</td>\n      <td>2</td>\n      <td>1</td>\n      <td>2</td>\n      <td>...</td>\n      <td>1</td>\n      <td>1</td>\n      <td>2</td>\n      <td>3</td>\n      <td>2</td>\n      <td>2</td>\n      <td>1</td>\n      <td>3</td>\n      <td>2</td>\n      <td>1</td>\n    </tr>\n    <tr>\n      <th>4</th>\n      <td>2</td>\n      <td>2</td>\n      <td>1</td>\n      <td>3</td>\n      <td>2</td>\n      <td>2</td>\n      <td>1</td>\n      <td>3</td>\n      <td>1</td>\n      <td>4</td>\n      <td>...</td>\n      <td>1</td>\n      <td>2</td>\n      <td>1</td>\n      <td>2</td>\n      <td>2</td>\n      <td>2</td>\n      <td>1</td>\n      <td>2</td>\n      <td>2</td>\n      <td>1</td>\n    </tr>\n    <tr>\n      <th>...</th>\n      <td>...</td>\n      <td>...</td>\n      <td>...</td>\n      <td>...</td>\n      <td>...</td>\n      <td>...</td>\n      <td>...</td>\n      <td>...</td>\n      <td>...</td>\n      <td>...</td>\n      <td>...</td>\n      <td>...</td>\n      <td>...</td>\n      <td>...</td>\n      <td>...</td>\n      <td>...</td>\n      <td>...</td>\n      <td>...</td>\n      <td>...</td>\n      <td>...</td>\n      <td>...</td>\n    </tr>\n    <tr>\n      <th>140</th>\n      <td>2</td>\n      <td>1</td>\n      <td>2</td>\n      <td>3</td>\n      <td>1</td>\n      <td>1</td>\n      <td>2</td>\n      <td>1</td>\n      <td>1</td>\n      <td>2</td>\n      <td>...</td>\n      <td>1</td>\n      <td>1</td>\n      <td>1</td>\n      <td>2</td>\n      <td>1</td>\n      <td>2</td>\n      <td>1</td>\n      <td>3</td>\n      <td>3</td>\n      <td>9</td>\n    </tr>\n    <tr>\n      <th>141</th>\n      <td>1</td>\n      <td>1</td>\n      <td>2</td>\n      <td>4</td>\n      <td>2</td>\n      <td>2</td>\n      <td>2</td>\n      <td>1</td>\n      <td>4</td>\n      <td>2</td>\n      <td>...</td>\n      <td>2</td>\n      <td>1</td>\n      <td>1</td>\n      <td>3</td>\n      <td>2</td>\n      <td>2</td>\n      <td>1</td>\n      <td>5</td>\n      <td>3</td>\n      <td>9</td>\n    </tr>\n    <tr>\n      <th>142</th>\n      <td>1</td>\n      <td>1</td>\n      <td>1</td>\n      <td>4</td>\n      <td>2</td>\n      <td>2</td>\n      <td>2</td>\n      <td>1</td>\n      <td>1</td>\n      <td>1</td>\n      <td>...</td>\n      <td>1</td>\n      <td>1</td>\n      <td>1</td>\n      <td>3</td>\n      <td>3</td>\n      <td>2</td>\n      <td>1</td>\n      <td>4</td>\n      <td>3</td>\n      <td>9</td>\n    </tr>\n    <tr>\n      <th>143</th>\n      <td>2</td>\n      <td>1</td>\n      <td>2</td>\n      <td>4</td>\n      <td>1</td>\n      <td>1</td>\n      <td>1</td>\n      <td>5</td>\n      <td>2</td>\n      <td>3</td>\n      <td>...</td>\n      <td>1</td>\n      <td>2</td>\n      <td>1</td>\n      <td>2</td>\n      <td>1</td>\n      <td>2</td>\n      <td>1</td>\n      <td>5</td>\n      <td>3</td>\n      <td>9</td>\n    </tr>\n    <tr>\n      <th>144</th>\n      <td>1</td>\n      <td>1</td>\n      <td>1</td>\n      <td>5</td>\n      <td>2</td>\n      <td>2</td>\n      <td>2</td>\n      <td>3</td>\n      <td>1</td>\n      <td>1</td>\n      <td>...</td>\n      <td>1</td>\n      <td>2</td>\n      <td>1</td>\n      <td>3</td>\n      <td>2</td>\n      <td>3</td>\n      <td>1</td>\n      <td>5</td>\n      <td>4</td>\n      <td>9</td>\n    </tr>\n  </tbody>\n</table>\n<p>145 rows × 31 columns</p>\n</div>"
     },
     "execution_count": 2565,
     "metadata": {},
     "output_type": "execute_result"
    }
   ],
   "source": [
    "X"
   ],
   "metadata": {
    "collapsed": false,
    "ExecuteTime": {
     "end_time": "2023-12-18T08:48:46.127699Z",
     "start_time": "2023-12-18T08:48:45.677159200Z"
    }
   },
   "id": "2d53f494578e9bcd"
  },
  {
   "cell_type": "code",
   "execution_count": 2566,
   "outputs": [
    {
     "data": {
      "text/plain": "0      0\n1      0\n2      0\n3      0\n4      0\n      ..\n140    1\n141    1\n142    0\n143    1\n144    1\nName: SUCCESS, Length: 145, dtype: int32"
     },
     "execution_count": 2566,
     "metadata": {},
     "output_type": "execute_result"
    }
   ],
   "source": [
    "Y"
   ],
   "metadata": {
    "collapsed": false,
    "ExecuteTime": {
     "end_time": "2023-12-18T08:48:46.456835500Z",
     "start_time": "2023-12-18T08:48:46.135704800Z"
    }
   },
   "id": "79632265b47eaa22"
  },
  {
   "cell_type": "code",
   "execution_count": 2567,
   "outputs": [
    {
     "name": "stdout",
     "output_type": "stream",
     "text": [
      "<class 'pandas.core.frame.DataFrame'>\n",
      "RangeIndex: 145 entries, 0 to 144\n",
      "Data columns (total 31 columns):\n",
      " #   Column     Non-Null Count  Dtype\n",
      "---  ------     --------------  -----\n",
      " 0   1          145 non-null    int64\n",
      " 1   2          145 non-null    int64\n",
      " 2   3          145 non-null    int64\n",
      " 3   4          145 non-null    int64\n",
      " 4   5          145 non-null    int64\n",
      " 5   6          145 non-null    int64\n",
      " 6   7          145 non-null    int64\n",
      " 7   8          145 non-null    int64\n",
      " 8   9          145 non-null    int64\n",
      " 9   10         145 non-null    int64\n",
      " 10  11         145 non-null    int64\n",
      " 11  12         145 non-null    int64\n",
      " 12  13         145 non-null    int64\n",
      " 13  14         145 non-null    int64\n",
      " 14  15         145 non-null    int64\n",
      " 15  16         145 non-null    int64\n",
      " 16  17         145 non-null    int64\n",
      " 17  18         145 non-null    int64\n",
      " 18  19         145 non-null    int64\n",
      " 19  20         145 non-null    int64\n",
      " 20  21         145 non-null    int64\n",
      " 21  22         145 non-null    int64\n",
      " 22  23         145 non-null    int64\n",
      " 23  24         145 non-null    int64\n",
      " 24  25         145 non-null    int64\n",
      " 25  26         145 non-null    int64\n",
      " 26  27         145 non-null    int64\n",
      " 27  28         145 non-null    int64\n",
      " 28  29         145 non-null    int64\n",
      " 29  30         145 non-null    int64\n",
      " 30  COURSE ID  145 non-null    int64\n",
      "dtypes: int64(31)\n",
      "memory usage: 35.2 KB\n"
     ]
    }
   ],
   "source": [
    "X.info()"
   ],
   "metadata": {
    "collapsed": false,
    "ExecuteTime": {
     "end_time": "2023-12-18T08:48:46.647052600Z",
     "start_time": "2023-12-18T08:48:46.307378100Z"
    }
   },
   "id": "20c9ecbb810c782f"
  },
  {
   "cell_type": "markdown",
   "source": [
    "Отберем нужное количество признаков"
   ],
   "metadata": {
    "collapsed": false
   },
   "id": "e2ed2ea17e381a37"
  },
  {
   "cell_type": "code",
   "execution_count": 2568,
   "outputs": [
    {
     "data": {
      "text/plain": "26"
     },
     "execution_count": 2568,
     "metadata": {},
     "output_type": "execute_result"
    }
   ],
   "source": [
    "columns_count = int(len(X.columns)**(1/2))\n",
    "to_drop_count = len(X.columns) - columns_count\n",
    "to_drop_count"
   ],
   "metadata": {
    "collapsed": false,
    "ExecuteTime": {
     "end_time": "2023-12-18T08:48:47.017454400Z",
     "start_time": "2023-12-18T08:48:46.652872800Z"
    }
   },
   "id": "4ab79b5f17023fdd"
  },
  {
   "cell_type": "markdown",
   "source": [
    "Распределение данных"
   ],
   "metadata": {
    "collapsed": false
   },
   "id": "a4eff9263f003ba7"
  },
  {
   "cell_type": "code",
   "execution_count": 2569,
   "outputs": [],
   "source": [
    "#cols = X.columns\n",
    "\n",
    "#fig, axes = plt.subplots(len(cols), 1, figsize=(15, len(cols)*8))\n",
    "\n",
    "#for i, column in enumerate(cols):\n",
    "#    axes[i].scatter(range(len(X)), X[column], alpha=0.3)\n",
    "#    axes[i].set_xlabel('Index')\n",
    "#    axes[i].set_ylabel(column)\n",
    "\n",
    "#plt.tight_layout()\n",
    "#plt.show()"
   ],
   "metadata": {
    "collapsed": false,
    "ExecuteTime": {
     "end_time": "2023-12-18T08:48:47.189349600Z",
     "start_time": "2023-12-18T08:48:46.934665800Z"
    }
   },
   "id": "308be33dd6b013ff"
  },
  {
   "cell_type": "code",
   "execution_count": 2570,
   "outputs": [
    {
     "data": {
      "text/plain": "     7  9  17  28  COURSE ID\n0    2  1   3   2          1\n1    2  1   2   2          1\n2    2  4   2   1          1\n3    1  1   3   1          1\n4    1  1   2   1          1\n..  .. ..  ..  ..        ...\n140  2  1   3   1          9\n141  2  4   3   1          9\n142  2  1   2   1          9\n143  1  2   2   1          9\n144  2  1   3   1          9\n\n[145 rows x 5 columns]",
      "text/html": "<div>\n<style scoped>\n    .dataframe tbody tr th:only-of-type {\n        vertical-align: middle;\n    }\n\n    .dataframe tbody tr th {\n        vertical-align: top;\n    }\n\n    .dataframe thead th {\n        text-align: right;\n    }\n</style>\n<table border=\"1\" class=\"dataframe\">\n  <thead>\n    <tr style=\"text-align: right;\">\n      <th></th>\n      <th>7</th>\n      <th>9</th>\n      <th>17</th>\n      <th>28</th>\n      <th>COURSE ID</th>\n    </tr>\n  </thead>\n  <tbody>\n    <tr>\n      <th>0</th>\n      <td>2</td>\n      <td>1</td>\n      <td>3</td>\n      <td>2</td>\n      <td>1</td>\n    </tr>\n    <tr>\n      <th>1</th>\n      <td>2</td>\n      <td>1</td>\n      <td>2</td>\n      <td>2</td>\n      <td>1</td>\n    </tr>\n    <tr>\n      <th>2</th>\n      <td>2</td>\n      <td>4</td>\n      <td>2</td>\n      <td>1</td>\n      <td>1</td>\n    </tr>\n    <tr>\n      <th>3</th>\n      <td>1</td>\n      <td>1</td>\n      <td>3</td>\n      <td>1</td>\n      <td>1</td>\n    </tr>\n    <tr>\n      <th>4</th>\n      <td>1</td>\n      <td>1</td>\n      <td>2</td>\n      <td>1</td>\n      <td>1</td>\n    </tr>\n    <tr>\n      <th>...</th>\n      <td>...</td>\n      <td>...</td>\n      <td>...</td>\n      <td>...</td>\n      <td>...</td>\n    </tr>\n    <tr>\n      <th>140</th>\n      <td>2</td>\n      <td>1</td>\n      <td>3</td>\n      <td>1</td>\n      <td>9</td>\n    </tr>\n    <tr>\n      <th>141</th>\n      <td>2</td>\n      <td>4</td>\n      <td>3</td>\n      <td>1</td>\n      <td>9</td>\n    </tr>\n    <tr>\n      <th>142</th>\n      <td>2</td>\n      <td>1</td>\n      <td>2</td>\n      <td>1</td>\n      <td>9</td>\n    </tr>\n    <tr>\n      <th>143</th>\n      <td>1</td>\n      <td>2</td>\n      <td>2</td>\n      <td>1</td>\n      <td>9</td>\n    </tr>\n    <tr>\n      <th>144</th>\n      <td>2</td>\n      <td>1</td>\n      <td>3</td>\n      <td>1</td>\n      <td>9</td>\n    </tr>\n  </tbody>\n</table>\n<p>145 rows × 5 columns</p>\n</div>"
     },
     "execution_count": 2570,
     "metadata": {},
     "output_type": "execute_result"
    }
   ],
   "source": [
    "columns = X.columns.values\n",
    "to_drop_columns = np.random.choice(columns, size=to_drop_count, replace=False)\n",
    "X = X.drop(to_drop_columns, axis=1)\n",
    "X"
   ],
   "metadata": {
    "collapsed": false,
    "ExecuteTime": {
     "end_time": "2023-12-18T08:48:47.415399400Z",
     "start_time": "2023-12-18T08:48:47.154800700Z"
    }
   },
   "id": "68ee034a46ac143b"
  },
  {
   "cell_type": "markdown",
   "source": [
    "Разделение на тренировочную и тестовую выборки"
   ],
   "metadata": {
    "collapsed": false
   },
   "id": "b59ced649b752633"
  },
  {
   "cell_type": "code",
   "execution_count": 2571,
   "outputs": [],
   "source": [
    "indexes = list(range(len(X)))\n",
    "test_size = 0.2\n",
    "random.seed(42)\n",
    "random.shuffle(indexes)\n",
    "split_index = int(len(X) * test_size)\n",
    "\n",
    "X_train = X.iloc[indexes[split_index:]]\n",
    "X_test = X.iloc[indexes[:split_index]]\n",
    "Y_train = Y.iloc[indexes[split_index:]]\n",
    "Y_test = Y.iloc[indexes[:split_index]]"
   ],
   "metadata": {
    "collapsed": false,
    "ExecuteTime": {
     "end_time": "2023-12-18T08:48:47.585686Z",
     "start_time": "2023-12-18T08:48:47.427076900Z"
    }
   },
   "id": "9da8e229af9f0e40"
  },
  {
   "cell_type": "code",
   "execution_count": 2572,
   "outputs": [
    {
     "data": {
      "text/plain": "     7  9  17  28  COURSE ID\n134  2  2   2   1          9\n127  2  4   2   1          9\n39   1  1   1   3          1\n121  1  2   5   1          8\n60   2  2   1   1          1\n..  .. ..  ..  ..        ...\n57   2  1   2   1          1\n62   2  4   3   2          1\n70   1  1   2   1          3\n6    2  1   2   3          1\n28   1  4   2   3          1\n\n[116 rows x 5 columns]",
      "text/html": "<div>\n<style scoped>\n    .dataframe tbody tr th:only-of-type {\n        vertical-align: middle;\n    }\n\n    .dataframe tbody tr th {\n        vertical-align: top;\n    }\n\n    .dataframe thead th {\n        text-align: right;\n    }\n</style>\n<table border=\"1\" class=\"dataframe\">\n  <thead>\n    <tr style=\"text-align: right;\">\n      <th></th>\n      <th>7</th>\n      <th>9</th>\n      <th>17</th>\n      <th>28</th>\n      <th>COURSE ID</th>\n    </tr>\n  </thead>\n  <tbody>\n    <tr>\n      <th>134</th>\n      <td>2</td>\n      <td>2</td>\n      <td>2</td>\n      <td>1</td>\n      <td>9</td>\n    </tr>\n    <tr>\n      <th>127</th>\n      <td>2</td>\n      <td>4</td>\n      <td>2</td>\n      <td>1</td>\n      <td>9</td>\n    </tr>\n    <tr>\n      <th>39</th>\n      <td>1</td>\n      <td>1</td>\n      <td>1</td>\n      <td>3</td>\n      <td>1</td>\n    </tr>\n    <tr>\n      <th>121</th>\n      <td>1</td>\n      <td>2</td>\n      <td>5</td>\n      <td>1</td>\n      <td>8</td>\n    </tr>\n    <tr>\n      <th>60</th>\n      <td>2</td>\n      <td>2</td>\n      <td>1</td>\n      <td>1</td>\n      <td>1</td>\n    </tr>\n    <tr>\n      <th>...</th>\n      <td>...</td>\n      <td>...</td>\n      <td>...</td>\n      <td>...</td>\n      <td>...</td>\n    </tr>\n    <tr>\n      <th>57</th>\n      <td>2</td>\n      <td>1</td>\n      <td>2</td>\n      <td>1</td>\n      <td>1</td>\n    </tr>\n    <tr>\n      <th>62</th>\n      <td>2</td>\n      <td>4</td>\n      <td>3</td>\n      <td>2</td>\n      <td>1</td>\n    </tr>\n    <tr>\n      <th>70</th>\n      <td>1</td>\n      <td>1</td>\n      <td>2</td>\n      <td>1</td>\n      <td>3</td>\n    </tr>\n    <tr>\n      <th>6</th>\n      <td>2</td>\n      <td>1</td>\n      <td>2</td>\n      <td>3</td>\n      <td>1</td>\n    </tr>\n    <tr>\n      <th>28</th>\n      <td>1</td>\n      <td>4</td>\n      <td>2</td>\n      <td>3</td>\n      <td>1</td>\n    </tr>\n  </tbody>\n</table>\n<p>116 rows × 5 columns</p>\n</div>"
     },
     "execution_count": 2572,
     "metadata": {},
     "output_type": "execute_result"
    }
   ],
   "source": [
    "X_train"
   ],
   "metadata": {
    "collapsed": false,
    "ExecuteTime": {
     "end_time": "2023-12-18T08:48:47.760173500Z",
     "start_time": "2023-12-18T08:48:47.519855300Z"
    }
   },
   "id": "7e923153b7d36f60"
  },
  {
   "cell_type": "code",
   "execution_count": 2573,
   "outputs": [
    {
     "data": {
      "text/plain": "     7  9  17  28  COURSE ID\n137  2  1   2   1          9\n18   2  1   5   3          1\n81   2  1   2   3          5\n51   2  1   1   1          1\n88   1  1   2   3          6\n112  2  3   1   1          8\n130  2  1   4   2          9\n30   1  1   2   3          1\n133  1  1   3   2          9\n120  1  2   1   2          8\n71   2  1   2   3          3\n110  2  4   2   1          8\n141  2  4   3   1          9\n38   2  1   3   2          1\n82   1  1   2   3          5\n32   2  1   2   1          1\n90   1  2   2   3          6\n61   2  1   3   2          1\n42   2  4   2   1          1\n85   2  1   1   3          5\n125  2  1   3   1          9\n126  1  2   4   1          9\n52   2  1   3   1          1\n1    2  1   2   2          1\n87   2  1   2   2          6\n128  1  4   2   1          9\n63   1  1   1   1          1\n101  1  1   2   1          7\n124  1  1   4   1          9",
      "text/html": "<div>\n<style scoped>\n    .dataframe tbody tr th:only-of-type {\n        vertical-align: middle;\n    }\n\n    .dataframe tbody tr th {\n        vertical-align: top;\n    }\n\n    .dataframe thead th {\n        text-align: right;\n    }\n</style>\n<table border=\"1\" class=\"dataframe\">\n  <thead>\n    <tr style=\"text-align: right;\">\n      <th></th>\n      <th>7</th>\n      <th>9</th>\n      <th>17</th>\n      <th>28</th>\n      <th>COURSE ID</th>\n    </tr>\n  </thead>\n  <tbody>\n    <tr>\n      <th>137</th>\n      <td>2</td>\n      <td>1</td>\n      <td>2</td>\n      <td>1</td>\n      <td>9</td>\n    </tr>\n    <tr>\n      <th>18</th>\n      <td>2</td>\n      <td>1</td>\n      <td>5</td>\n      <td>3</td>\n      <td>1</td>\n    </tr>\n    <tr>\n      <th>81</th>\n      <td>2</td>\n      <td>1</td>\n      <td>2</td>\n      <td>3</td>\n      <td>5</td>\n    </tr>\n    <tr>\n      <th>51</th>\n      <td>2</td>\n      <td>1</td>\n      <td>1</td>\n      <td>1</td>\n      <td>1</td>\n    </tr>\n    <tr>\n      <th>88</th>\n      <td>1</td>\n      <td>1</td>\n      <td>2</td>\n      <td>3</td>\n      <td>6</td>\n    </tr>\n    <tr>\n      <th>112</th>\n      <td>2</td>\n      <td>3</td>\n      <td>1</td>\n      <td>1</td>\n      <td>8</td>\n    </tr>\n    <tr>\n      <th>130</th>\n      <td>2</td>\n      <td>1</td>\n      <td>4</td>\n      <td>2</td>\n      <td>9</td>\n    </tr>\n    <tr>\n      <th>30</th>\n      <td>1</td>\n      <td>1</td>\n      <td>2</td>\n      <td>3</td>\n      <td>1</td>\n    </tr>\n    <tr>\n      <th>133</th>\n      <td>1</td>\n      <td>1</td>\n      <td>3</td>\n      <td>2</td>\n      <td>9</td>\n    </tr>\n    <tr>\n      <th>120</th>\n      <td>1</td>\n      <td>2</td>\n      <td>1</td>\n      <td>2</td>\n      <td>8</td>\n    </tr>\n    <tr>\n      <th>71</th>\n      <td>2</td>\n      <td>1</td>\n      <td>2</td>\n      <td>3</td>\n      <td>3</td>\n    </tr>\n    <tr>\n      <th>110</th>\n      <td>2</td>\n      <td>4</td>\n      <td>2</td>\n      <td>1</td>\n      <td>8</td>\n    </tr>\n    <tr>\n      <th>141</th>\n      <td>2</td>\n      <td>4</td>\n      <td>3</td>\n      <td>1</td>\n      <td>9</td>\n    </tr>\n    <tr>\n      <th>38</th>\n      <td>2</td>\n      <td>1</td>\n      <td>3</td>\n      <td>2</td>\n      <td>1</td>\n    </tr>\n    <tr>\n      <th>82</th>\n      <td>1</td>\n      <td>1</td>\n      <td>2</td>\n      <td>3</td>\n      <td>5</td>\n    </tr>\n    <tr>\n      <th>32</th>\n      <td>2</td>\n      <td>1</td>\n      <td>2</td>\n      <td>1</td>\n      <td>1</td>\n    </tr>\n    <tr>\n      <th>90</th>\n      <td>1</td>\n      <td>2</td>\n      <td>2</td>\n      <td>3</td>\n      <td>6</td>\n    </tr>\n    <tr>\n      <th>61</th>\n      <td>2</td>\n      <td>1</td>\n      <td>3</td>\n      <td>2</td>\n      <td>1</td>\n    </tr>\n    <tr>\n      <th>42</th>\n      <td>2</td>\n      <td>4</td>\n      <td>2</td>\n      <td>1</td>\n      <td>1</td>\n    </tr>\n    <tr>\n      <th>85</th>\n      <td>2</td>\n      <td>1</td>\n      <td>1</td>\n      <td>3</td>\n      <td>5</td>\n    </tr>\n    <tr>\n      <th>125</th>\n      <td>2</td>\n      <td>1</td>\n      <td>3</td>\n      <td>1</td>\n      <td>9</td>\n    </tr>\n    <tr>\n      <th>126</th>\n      <td>1</td>\n      <td>2</td>\n      <td>4</td>\n      <td>1</td>\n      <td>9</td>\n    </tr>\n    <tr>\n      <th>52</th>\n      <td>2</td>\n      <td>1</td>\n      <td>3</td>\n      <td>1</td>\n      <td>1</td>\n    </tr>\n    <tr>\n      <th>1</th>\n      <td>2</td>\n      <td>1</td>\n      <td>2</td>\n      <td>2</td>\n      <td>1</td>\n    </tr>\n    <tr>\n      <th>87</th>\n      <td>2</td>\n      <td>1</td>\n      <td>2</td>\n      <td>2</td>\n      <td>6</td>\n    </tr>\n    <tr>\n      <th>128</th>\n      <td>1</td>\n      <td>4</td>\n      <td>2</td>\n      <td>1</td>\n      <td>9</td>\n    </tr>\n    <tr>\n      <th>63</th>\n      <td>1</td>\n      <td>1</td>\n      <td>1</td>\n      <td>1</td>\n      <td>1</td>\n    </tr>\n    <tr>\n      <th>101</th>\n      <td>1</td>\n      <td>1</td>\n      <td>2</td>\n      <td>1</td>\n      <td>7</td>\n    </tr>\n    <tr>\n      <th>124</th>\n      <td>1</td>\n      <td>1</td>\n      <td>4</td>\n      <td>1</td>\n      <td>9</td>\n    </tr>\n  </tbody>\n</table>\n</div>"
     },
     "execution_count": 2573,
     "metadata": {},
     "output_type": "execute_result"
    }
   ],
   "source": [
    "X_test"
   ],
   "metadata": {
    "collapsed": false,
    "ExecuteTime": {
     "end_time": "2023-12-18T08:48:47.969965500Z",
     "start_time": "2023-12-18T08:48:47.723705400Z"
    }
   },
   "id": "237390ab2237e030"
  },
  {
   "cell_type": "code",
   "execution_count": 2574,
   "outputs": [
    {
     "data": {
      "text/plain": "134    0\n127    0\n39     0\n121    0\n60     1\n      ..\n57     1\n62     1\n70     1\n6      1\n28     1\nName: SUCCESS, Length: 116, dtype: int32"
     },
     "execution_count": 2574,
     "metadata": {},
     "output_type": "execute_result"
    }
   ],
   "source": [
    "Y_train"
   ],
   "metadata": {
    "collapsed": false,
    "ExecuteTime": {
     "end_time": "2023-12-18T08:48:48.220953200Z",
     "start_time": "2023-12-18T08:48:47.903728500Z"
    }
   },
   "id": "fadc365e22a7310"
  },
  {
   "cell_type": "code",
   "execution_count": 2575,
   "outputs": [
    {
     "data": {
      "text/plain": "137    1\n18     1\n81     1\n51     1\n88     1\n112    1\n130    0\n30     1\n133    1\n120    0\n71     1\n110    1\n141    1\n38     1\n82     1\n32     0\n90     1\n61     1\n42     0\n85     1\n125    1\n126    1\n52     0\n1      0\n87     1\n128    0\n63     1\n101    1\n124    1\nName: SUCCESS, dtype: int32"
     },
     "execution_count": 2575,
     "metadata": {},
     "output_type": "execute_result"
    }
   ],
   "source": [
    "Y_test"
   ],
   "metadata": {
    "collapsed": false,
    "ExecuteTime": {
     "end_time": "2023-12-18T08:48:48.477736500Z",
     "start_time": "2023-12-18T08:48:48.173392300Z"
    }
   },
   "id": "27e9bbd315020403"
  },
  {
   "cell_type": "markdown",
   "source": [
    "Дерево решений"
   ],
   "metadata": {
    "collapsed": false
   },
   "id": "48d3087a59bae3f3"
  },
  {
   "cell_type": "code",
   "execution_count": 2576,
   "outputs": [],
   "source": [
    "class TreeNode:\n",
    "\n",
    "    def __init__(self, left = None, right = None, class_name = None, feature = None, div_value = None):\n",
    "        self.left = left\n",
    "        self.right = right\n",
    "        self.class_name = class_name\n",
    "        self.feature = feature\n",
    "        self.div_value = div_value\n",
    "\n",
    "    def __str__(self):\n",
    "        return f'(left = {self.left}; right  = {self.right}; class_name = {self.class_name}; feature = {self.feature}; div_value = {self.div_value})'\n",
    "\n",
    "\n",
    "\n",
    "def tree_to_string(root, depth=0):\n",
    "\n",
    "        indentation = '        ' * depth * 2\n",
    "        format = '--' * (depth + 1)\n",
    "\n",
    "        if root.class_name is not None:\n",
    "            print(f\"{indentation}|{format} class_name = {'Успех' if root.class_name == 1 else 'Незачёт'}\")\n",
    "\n",
    "        else:\n",
    "            feature = columns[root.feature]\n",
    "            div_value = root.div_value\n",
    "\n",
    "            print(f'{indentation}|{format} {feature} < {div_value}')\n",
    "            tree_to_string(root.left, depth + 1)\n",
    "\n",
    "            print(f'{indentation}|{format} {feature} >= {div_value}')\n",
    "            tree_to_string(root.right, depth + 1)\n"
   ],
   "metadata": {
    "collapsed": false,
    "ExecuteTime": {
     "end_time": "2023-12-18T08:48:48.788187100Z",
     "start_time": "2023-12-18T08:48:48.407439900Z"
    }
   },
   "id": "b3fc529bdfa7d017"
  },
  {
   "cell_type": "markdown",
   "source": [
    "Вычисление энтропии для определения чистоты подмножества"
   ],
   "metadata": {
    "collapsed": false
   },
   "id": "49f005b085d40fdc"
  },
  {
   "cell_type": "code",
   "execution_count": 2577,
   "outputs": [],
   "source": [
    "def calculate_entropy(y_values):\n",
    "    if len(y_values) == 0:\n",
    "        return 0\n",
    "\n",
    "    p1 = np.mean(y_values == y_values[0])\n",
    "    p2 = 1 - p1\n",
    "\n",
    "    if p1  == 1 or p2 == 1:\n",
    "        return 0\n",
    "\n",
    "    return -(p1 * math.log2(p1) + p2 * math.log2(p2))"
   ],
   "metadata": {
    "collapsed": false,
    "ExecuteTime": {
     "end_time": "2023-12-18T08:48:49.032299700Z",
     "start_time": "2023-12-18T08:48:48.802542200Z"
    }
   },
   "id": "85849713c662b1a8"
  },
  {
   "cell_type": "markdown",
   "source": [
    "Вычисление информационного выигрыша при разбиении по данному признаку X"
   ],
   "metadata": {
    "collapsed": false
   },
   "id": "43bd69457d62ca73"
  },
  {
   "cell_type": "code",
   "execution_count": 2578,
   "outputs": [],
   "source": [
    "def calculate_gain(x, y):\n",
    "    #  энтропия до разделения\n",
    "    before = calculate_entropy(y.values)\n",
    "\n",
    "    #  находим уникальные значения признака и количество вхождений каждого уникального признака\n",
    "    values, occurrences = np.unique(x, return_counts=True)\n",
    "    total = len(y.values)\n",
    "\n",
    "    #  массив энтропий для того, чтобы получить взвешанную энтропию (ВЭ потом будет использоваться для определения выгоды от разделения по данному признаку)\n",
    "    entropies = []\n",
    "    #  пробегаюсь по всем уникальным значениям признака\n",
    "    for i, value in enumerate(values):\n",
    "\n",
    "        #  вычисляю вероятность (количество объектов с таким признаком / общее количество объектов)\n",
    "        prob = occurrences[i] / total\n",
    "\n",
    "        #  все метки данного значения X\n",
    "        cur_labels = y[x == value]\n",
    "\n",
    "        #  выщитываю энтропию меток полученных значений меток для данного уникального значения\n",
    "        tmp_entropy = prob * calculate_entropy(cur_labels.values)\n",
    "\n",
    "        #  добавляю в массив энтропий\n",
    "        entropies.append(tmp_entropy)\n",
    "\n",
    "    return before - sum(entropies)"
   ],
   "metadata": {
    "collapsed": false,
    "ExecuteTime": {
     "end_time": "2023-12-18T08:48:49.090883600Z",
     "start_time": "2023-12-18T08:48:48.955970100Z"
    }
   },
   "id": "339e6a89372ccce1"
  },
  {
   "cell_type": "markdown",
   "source": [
    "Построение модели. Способ ограничения: глубина дерева"
   ],
   "metadata": {
    "collapsed": false
   },
   "id": "a6a3a36bd05c2741"
  },
  {
   "cell_type": "code",
   "execution_count": 2579,
   "outputs": [],
   "source": [
    "def build_nodes(x, y, cur_depth, max_depth):\n",
    "    y_values = y.values\n",
    "\n",
    "    #  если все метки одинаковые, то энтропия == 0, значит нашли лист\n",
    "    if len(np.unique(y_values)) == 1:\n",
    "        return TreeNode(class_name = y_values[0])\n",
    "\n",
    "    #  если текущая длина превысила предельную, то опеределяем класс по принципу большинства\n",
    "    if cur_depth >= max_depth:\n",
    "        labels = np.unique(y_values)\n",
    "        label = y_values[0]\n",
    "        l1_count = 0\n",
    "        for i in range(len(y_values)):\n",
    "            if y_values[i] == label:\n",
    "                l1_count += 1\n",
    "        l2_count = len(y_values) - l1_count\n",
    "        return TreeNode(class_name = labels[0] if l1_count >= l2_count else labels[1])\n",
    "\n",
    "    max_gain = 0\n",
    "    final_feature_ind = None\n",
    "    final_div_value = None\n",
    "\n",
    "    # print(X)\n",
    "    #  для каждого признака признакам\n",
    "    for cur_column_ind in range(x.shape[1]):\n",
    "        #  рассматриваем возможность разделения по каждому уникальному значению\n",
    "        for div_value in np.unique(x.iloc[:, cur_column_ind]):\n",
    "            #  делим\n",
    "            left = x.iloc[:, cur_column_ind] < div_value\n",
    "            right = x.iloc[:, cur_column_ind] >= div_value\n",
    "\n",
    "            #  если нет смысла в разделении, пропускаем значение признака\n",
    "            if sum(left) == 0 or sum(right) == 0:\n",
    "                continue\n",
    "\n",
    "            #  высчитываем выигрыш\n",
    "            cur_gain = calculate_gain(left, y)\n",
    "            #  запоминаем\n",
    "            if cur_gain > max_gain:\n",
    "                max_gain = cur_gain\n",
    "                final_feature_ind = cur_column_ind\n",
    "                final_div_value = div_value\n",
    "\n",
    "    #  если выигрыша не обнаружено, поступаем как в случае с превышением глубины (большинство)\n",
    "    if max_gain == 0 or final_feature_ind is None or final_div_value is None:\n",
    "        labels = np.unique(y_values)\n",
    "        label = y_values[0]\n",
    "        l1_count = 0\n",
    "        for i in range(len(y_values)):\n",
    "            if y_values[i] == label:\n",
    "                l1_count += 1\n",
    "        l2_count = len(y_values) - l1_count\n",
    "        return TreeNode(class_name = labels[0] if l1_count >= l2_count else labels[1])\n",
    "\n",
    "    #  определяем индексы разделений\n",
    "    left_x_ind = x.iloc[:, final_feature_ind] < final_div_value\n",
    "    right_x_ind = x.iloc[:, final_feature_ind] >= final_div_value\n",
    "\n",
    "    #  строим левое и правое деревья\n",
    "    left_tree_node = build_nodes(x[left_x_ind], y[left_x_ind], cur_depth + 1, max_depth)\n",
    "    right_tree_node = build_nodes(x[right_x_ind], y[right_x_ind], cur_depth + 1, max_depth)\n",
    "\n",
    "    return TreeNode(left = left_tree_node,\n",
    "                    right = right_tree_node,\n",
    "                    feature = final_feature_ind,\n",
    "                    div_value = final_div_value)"
   ],
   "metadata": {
    "collapsed": false,
    "ExecuteTime": {
     "end_time": "2023-12-18T08:48:49.317778200Z",
     "start_time": "2023-12-18T08:48:49.075960300Z"
    }
   },
   "id": "e8f14ec8989a9390"
  },
  {
   "cell_type": "markdown",
   "source": [
    "Создание модели на тренировочных данных и вывод в удобном виде"
   ],
   "metadata": {
    "collapsed": false
   },
   "id": "d8358e744a97ecd0"
  },
  {
   "cell_type": "code",
   "execution_count": 2580,
   "outputs": [
    {
     "name": "stdout",
     "output_type": "stream",
     "text": [
      "|-- 5 < 8\n",
      "                |---- 5 < 3\n",
      "                                |------ 3 < 3\n",
      "                                                |-------- 4 < 3\n",
      "                                                                |---------- 5 < 2\n",
      "                                                                                |------------ class_name = Незачёт\n",
      "                                                                |---------- 5 >= 2\n",
      "                                                                                |------------ class_name = Незачёт\n",
      "                                                |-------- 4 >= 3\n",
      "                                                                |---------- 2 < 4\n",
      "                                                                                |------------ class_name = Успех\n",
      "                                                                |---------- 2 >= 4\n",
      "                                                                                |------------ class_name = Успех\n",
      "                                |------ 3 >= 3\n",
      "                                                |-------- 1 < 2\n",
      "                                                                |---------- 2 < 4\n",
      "                                                                                |------------ class_name = Успех\n",
      "                                                                |---------- 2 >= 4\n",
      "                                                                                |------------ class_name = Незачёт\n",
      "                                                |-------- 1 >= 2\n",
      "                                                                |---------- 2 < 4\n",
      "                                                                                |------------ class_name = Незачёт\n",
      "                                                                |---------- 2 >= 4\n",
      "                                                                                |------------ class_name = Успех\n",
      "                |---- 5 >= 3\n",
      "                                |------ class_name = Успех\n",
      "|-- 5 >= 8\n",
      "                |---- 1 < 2\n",
      "                                |------ 5 < 9\n",
      "                                                |-------- class_name = Незачёт\n",
      "                                |------ 5 >= 9\n",
      "                                                |-------- 3 < 2\n",
      "                                                                |---------- class_name = Незачёт\n",
      "                                                |-------- 3 >= 2\n",
      "                                                                |---------- class_name = Незачёт\n",
      "                |---- 1 >= 2\n",
      "                                |------ 3 < 4\n",
      "                                                |-------- 4 < 2\n",
      "                                                                |---------- 5 < 9\n",
      "                                                                                |------------ class_name = Незачёт\n",
      "                                                                |---------- 5 >= 9\n",
      "                                                                                |------------ class_name = Успех\n",
      "                                                |-------- 4 >= 2\n",
      "                                                                |---------- class_name = Успех\n",
      "                                |------ 3 >= 4\n",
      "                                                |-------- class_name = Успех\n"
     ]
    }
   ],
   "source": [
    "tree_depth = 5\n",
    "model = build_nodes(X_train, Y_train, 0, tree_depth)\n",
    "\n",
    "tree_to_string(model)"
   ],
   "metadata": {
    "collapsed": false,
    "ExecuteTime": {
     "end_time": "2023-12-18T08:48:49.634906400Z",
     "start_time": "2023-12-18T08:48:49.178796200Z"
    }
   },
   "id": "f8da90513340a0c0"
  },
  {
   "cell_type": "markdown",
   "source": [
    "Предсказание на тестовых данных"
   ],
   "metadata": {
    "collapsed": false
   },
   "id": "8559f7762c8864d1"
  },
  {
   "cell_type": "code",
   "execution_count": 2581,
   "outputs": [],
   "source": [
    "def predict(x_object_values, root):\n",
    "    if root.class_name is not None:\n",
    "        return root.class_name\n",
    "\n",
    "    if x_object_values[root.feature] < root.div_value:\n",
    "        return predict(x_object_values, root.left)\n",
    "    else:\n",
    "        return predict(x_object_values, root.right)\n",
    "\n",
    "\n",
    "\n",
    "def predict_all(x, model):\n",
    "    x_values = x.values\n",
    "    prediction = []\n",
    "    for row in x_values:\n",
    "        prediction.append(predict(row, model))\n",
    "    return prediction"
   ],
   "metadata": {
    "collapsed": false,
    "ExecuteTime": {
     "end_time": "2023-12-18T08:48:49.637914300Z",
     "start_time": "2023-12-18T08:48:49.525254600Z"
    }
   },
   "id": "f4b4e8150feedb6f"
  },
  {
   "cell_type": "code",
   "execution_count": 2582,
   "outputs": [
    {
     "data": {
      "text/plain": "[1,\n 0,\n 1,\n 0,\n 1,\n 0,\n 1,\n 1,\n 0,\n 0,\n 1,\n 0,\n 1,\n 0,\n 1,\n 0,\n 1,\n 0,\n 0,\n 1,\n 1,\n 0,\n 0,\n 0,\n 1,\n 0,\n 0,\n 1,\n 0]"
     },
     "execution_count": 2582,
     "metadata": {},
     "output_type": "execute_result"
    }
   ],
   "source": [
    "prediction = predict_all(X_test, model)\n",
    "prediction"
   ],
   "metadata": {
    "collapsed": false,
    "ExecuteTime": {
     "end_time": "2023-12-18T08:48:49.877898200Z",
     "start_time": "2023-12-18T08:48:49.601120500Z"
    }
   },
   "id": "51723a4dabad355b"
  },
  {
   "cell_type": "code",
   "execution_count": 2583,
   "outputs": [
    {
     "name": "stdout",
     "output_type": "stream",
     "text": [
      "Результат точности:  62.06896551724138\n"
     ]
    }
   ],
   "source": [
    "matches_count = 0\n",
    "for j in range(len(Y_test)):\n",
    "    if prediction[j] == Y_test.values[j]:\n",
    "        matches_count += 1\n",
    "predicted_percent = 100 * matches_count / len(Y_test)\n",
    "print(\"Результат точности: \", predicted_percent)"
   ],
   "metadata": {
    "collapsed": false,
    "ExecuteTime": {
     "end_time": "2023-12-18T08:48:49.980536Z",
     "start_time": "2023-12-18T08:48:49.806688200Z"
    }
   },
   "id": "3964e2a1f914211c"
  },
  {
   "cell_type": "markdown",
   "source": [
    "Матрица ошибок"
   ],
   "metadata": {
    "collapsed": false
   },
   "id": "3223ec05119679f4"
  },
  {
   "cell_type": "code",
   "execution_count": 2584,
   "outputs": [
    {
     "data": {
      "text/plain": "<Figure size 640x480 with 2 Axes>",
      "image/png": "[encoded data removed]"
     },
     "metadata": {},
     "output_type": "display_data"
    }
   ],
   "source": [
    "true_positive = 0\n",
    "true_negative = 0\n",
    "false_positive = 0\n",
    "false_negative = 0\n",
    "\n",
    "for i in range(len(Y_test)):\n",
    "    if prediction[i] == 1:\n",
    "        if Y_test.values[i] == 1:\n",
    "            true_positive += 1\n",
    "        else:\n",
    "            false_positive += 1\n",
    "    else:\n",
    "        if Y_test.values[i] == 1:\n",
    "            false_negative += 1\n",
    "        else:\n",
    "            true_negative += 1\n",
    "            \n",
    "confusion_matrix = [[true_positive, false_positive], [false_negative, true_negative]]\n",
    "cm_indeces = ['Positive', 'Negative']\n",
    "df_cm = pd.DataFrame(confusion_matrix, index = cm_indeces, columns = cm_indeces)\n",
    "sn.set_context(\"paper\", rc={\"font.size\":12,\"axes.titlesize\":8,\"axes.labelsize\":5})\n",
    "sn.heatmap(df_cm, annot=True, fmt='.0f', cmap=\"Greens\")\n",
    "plt.show()"
   ],
   "metadata": {
    "collapsed": false,
    "ExecuteTime": {
     "end_time": "2023-12-18T08:48:50.779291900Z",
     "start_time": "2023-12-18T08:48:49.951257200Z"
    }
   },
   "id": "ca94119fc0402878"
  },
  {
   "cell_type": "code",
   "execution_count": 2585,
   "outputs": [
    {
     "name": "stdout",
     "output_type": "stream",
     "text": [
      "precision = 92.3076923076923%\n"
     ]
    }
   ],
   "source": [
    "precision = true_positive / (true_positive + false_positive)\n",
    "print(f'precision = {precision * 100}%')"
   ],
   "metadata": {
    "collapsed": false,
    "ExecuteTime": {
     "end_time": "2023-12-18T08:48:50.818071800Z",
     "start_time": "2023-12-18T08:48:50.414926300Z"
    }
   },
   "id": "648ea75e300557f"
  },
  {
   "cell_type": "code",
   "execution_count": 2586,
   "outputs": [
    {
     "name": "stdout",
     "output_type": "stream",
     "text": [
      "recall = 54.54545454545454%\n"
     ]
    }
   ],
   "source": [
    "recall = true_positive / (true_positive + false_negative)\n",
    "print(f'recall = {recall * 100}%')"
   ],
   "metadata": {
    "collapsed": false,
    "ExecuteTime": {
     "end_time": "2023-12-18T08:48:50.852716500Z",
     "start_time": "2023-12-18T08:48:50.437862900Z"
    }
   },
   "id": "95d303337f7e659d"
  },
  {
   "cell_type": "markdown",
   "source": [
    "Оценка качества модели"
   ],
   "metadata": {
    "collapsed": false
   },
   "id": "ebf33c1d0c3a0349"
  },
  {
   "cell_type": "markdown",
   "source": [
    "AUC-ROC (площадь под кривой ошибок)"
   ],
   "metadata": {
    "collapsed": false
   },
   "id": "1362358cce0254e0"
  },
  {
   "cell_type": "code",
   "execution_count": 2587,
   "outputs": [
    {
     "data": {
      "text/plain": "<Figure size 640x480 with 1 Axes>",
      "image/png": "[encoded data removed]"
     },
     "metadata": {},
     "output_type": "display_data"
    },
    {
     "name": "stdout",
     "output_type": "stream",
     "text": [
      "auc_roc = 0.7012987012987013\n"
     ]
    }
   ],
   "source": [
    "# Предсказанные значения\n",
    "predicted = prediction\n",
    "# Реальные значения\n",
    "actual = Y_test.values\n",
    "\n",
    "# Находим все уникальные предсказанные значения\n",
    "thresholds = sorted(set(predicted), reverse=True)\n",
    "# Инициализируем списки для значений True Positive Rate (TPR) и False Positive Rate (FPR)\n",
    "tpr_list = [0]\n",
    "fpr_list = [0]\n",
    "\n",
    "# Проходимся по всем пороговым значениям\n",
    "for threshold in thresholds:\n",
    "    # Предсказываем метки классов на основе порога\n",
    "    predicted_labels = [1 if p >= threshold else 0 for p in predicted]\n",
    "    # Вычисляем True Positive Rate (TPR) и False Positive Rate (FPR)\n",
    "    tp = sum([1 for p, a in zip(predicted_labels, actual) if p == 1 and a == 1])\n",
    "    fp = sum([1 for p, a in zip(predicted_labels, actual) if p == 1 and a == 0])\n",
    "    tn = sum([1 for p, a in zip(predicted_labels, actual) if p == 0 and a == 0])\n",
    "    fn = sum([1 for p, a in zip(predicted_labels, actual) if p == 0 and a == 1])\n",
    "    tpr = tp / (tp + fn)\n",
    "    fpr = fp / (fp + tn)\n",
    "    # Добавляем полученные значения в списки\n",
    "    tpr_list.append(tpr)\n",
    "    fpr_list.append(fpr)\n",
    "\n",
    "# Строим ROC-кривую\n",
    "plt.plot(fpr_list, tpr_list, marker='o')\n",
    "plt.xlabel('False Positive Rate')\n",
    "plt.ylabel('True Positive Rate')\n",
    "plt.title('ROC Curve')\n",
    "plt.show()\n",
    "\n",
    "auc_roc = 0\n",
    "for i in range(len(fpr_list) - 1):\n",
    "    s = (tpr_list[i] + tpr_list[i+1]) / 2 * (fpr_list[i + 1] - fpr_list[i])\n",
    "    auc_roc += s\n",
    "print(f'auc_roc = {abs(auc_roc)}')"
   ],
   "metadata": {
    "collapsed": false,
    "ExecuteTime": {
     "end_time": "2023-12-18T08:48:51.420842800Z",
     "start_time": "2023-12-18T08:48:50.474298800Z"
    }
   },
   "id": "5016855d9b6b786a"
  },
  {
   "cell_type": "markdown",
   "source": [
    "AUC-PR оценка"
   ],
   "metadata": {
    "collapsed": false
   },
   "id": "4be38e2a257861c4"
  },
  {
   "cell_type": "code",
   "execution_count": 2588,
   "outputs": [
    {
     "name": "stdout",
     "output_type": "stream",
     "text": [
      "AUC-PR: 0.8929140017919411\n"
     ]
    }
   ],
   "source": [
    "def calculate_auc_pr(y_true, y_pred):\n",
    "    # Сортируем предсказанные значения по убыванию\n",
    "    sorted_indices = sorted(range(len(y_pred)), key=lambda k: y_pred[k], reverse=True)\n",
    "    y_true_sorted = [y_true[i] for i in sorted_indices]\n",
    "\n",
    "    # Вычисляем сумму точности и полноты\n",
    "    precision_sum = 0\n",
    "    recall_sum = 0\n",
    "    auc_pr = 0\n",
    "\n",
    "    for i in range(len(y_true_sorted)):\n",
    "        if y_true_sorted[i] == 1:\n",
    "            precision_sum += 1\n",
    "            recall_sum += 1\n",
    "            auc_pr += precision_sum / (i + 1)\n",
    "\n",
    "    if precision_sum == 0:\n",
    "        return 0\n",
    "\n",
    "    return auc_pr / precision_sum\n",
    "\n",
    "\n",
    "print(\"AUC-PR:\", calculate_auc_pr(Y_test.values, prediction))"
   ],
   "metadata": {
    "collapsed": false,
    "ExecuteTime": {
     "end_time": "2023-12-18T08:48:51.452472100Z",
     "start_time": "2023-12-18T08:48:51.099682200Z"
    }
   },
   "id": "aee400180d3a437c"
  },
  {
   "cell_type": "code",
   "execution_count": 2589,
   "outputs": [],
   "source": [
    "def calculate_proba(X_values, root, depth=0):\n",
    "    if root.class_name is not None:\n",
    "        return 1 / depth\n",
    "\n",
    "    if X_values[root.feature] < root.div_value:\n",
    "        return calculate_proba(X_values, root.left, depth + 1)\n",
    "    else:\n",
    "        return calculate_proba(X_values, root.right, depth + 1)\n",
    "\n",
    "\n",
    "def calculate_probas(X, model):\n",
    "    X_values = X.values\n",
    "    probas = []\n",
    "    for row in X_values:\n",
    "        probas.append(calculate_proba(row, model))\n",
    "    return probas\n",
    "\n",
    "\n",
    "probas = np.sort(calculate_probas(X_test, model))\n",
    "unique_probas = np.unique(probas)"
   ],
   "metadata": {
    "collapsed": false,
    "ExecuteTime": {
     "end_time": "2023-12-18T08:48:51.454476400Z",
     "start_time": "2023-12-18T08:48:51.124929400Z"
    }
   },
   "id": "a623902258fbed3c"
  },
  {
   "cell_type": "code",
   "execution_count": 2590,
   "outputs": [],
   "source": [
    "def get_precision_recall(div_value, Y_test, probas):\n",
    "    predicted_values = []\n",
    "    for i in range(len(probas)):\n",
    "        if probas[i] >= div_value:\n",
    "            predicted_values.append(1)\n",
    "        else:\n",
    "            predicted_values.append(0)\n",
    "    true_positive = 0\n",
    "    true_negative = 0\n",
    "    false_positive = 0\n",
    "    false_negative = 0\n",
    "\n",
    "    for i in range(len(Y_test)):\n",
    "        if predicted_values[i] == 1:\n",
    "            if Y_test.values[i] == 1:\n",
    "                true_positive += 1\n",
    "            else:\n",
    "                false_positive += 1\n",
    "        else:\n",
    "            if Y_test.values[i] == 1:\n",
    "                false_negative += 1\n",
    "            else:\n",
    "                true_negative += 1\n",
    "\n",
    "    precision = (true_positive) / (true_positive + false_positive)\n",
    "    recall = (true_positive) / (true_positive + false_negative)\n",
    "\n",
    "    return precision, recall\n",
    "\n",
    "\n",
    "def get_all_precisions(div_values, Y_test, probas):\n",
    "    precisions = []\n",
    "    for div_value in div_values:\n",
    "        precisions.append(get_precision_recall(div_value, Y_test, probas)[0])\n",
    "    return precisions\n",
    "\n",
    "def get_all_recalls(div_values, Y_test, probas):\n",
    "    recalls = []\n",
    "    for div_value in div_values:\n",
    "        recalls.append(get_precision_recall(div_value, Y_test, probas)[1])\n",
    "    return recalls"
   ],
   "metadata": {
    "collapsed": false,
    "ExecuteTime": {
     "end_time": "2023-12-18T08:48:51.755085600Z",
     "start_time": "2023-12-18T08:48:51.411234600Z"
    }
   },
   "id": "1d2ca800f6c44cd7"
  },
  {
   "cell_type": "code",
   "execution_count": 2591,
   "outputs": [],
   "source": [
    "precisions = get_all_precisions(np.unique(probas), Y_test, probas)\n",
    "recalls = get_all_recalls(np.unique(probas), Y_test, probas)"
   ],
   "metadata": {
    "collapsed": false,
    "ExecuteTime": {
     "end_time": "2023-12-18T08:48:51.829317700Z",
     "start_time": "2023-12-18T08:48:51.548338700Z"
    }
   },
   "id": "e9795fe542baaec7"
  },
  {
   "cell_type": "code",
   "execution_count": 2592,
   "outputs": [
    {
     "data": {
      "text/plain": "[0.7586206896551724, 0.6428571428571429, 0.7, 0.625]"
     },
     "execution_count": 2592,
     "metadata": {},
     "output_type": "execute_result"
    }
   ],
   "source": [
    "precisions"
   ],
   "metadata": {
    "collapsed": false,
    "ExecuteTime": {
     "end_time": "2023-12-18T08:48:52.011384Z",
     "start_time": "2023-12-18T08:48:51.823595700Z"
    }
   },
   "id": "12386514a789296d"
  },
  {
   "cell_type": "code",
   "execution_count": 2593,
   "outputs": [
    {
     "data": {
      "text/plain": "[1.0, 0.4090909090909091, 0.3181818181818182, 0.22727272727272727]"
     },
     "execution_count": 2593,
     "metadata": {},
     "output_type": "execute_result"
    }
   ],
   "source": [
    "recalls"
   ],
   "metadata": {
    "collapsed": false,
    "ExecuteTime": {
     "end_time": "2023-12-18T08:48:52.085050300Z",
     "start_time": "2023-12-18T08:48:51.990091400Z"
    }
   },
   "id": "489b4c7dde205223"
  },
  {
   "cell_type": "code",
   "execution_count": 2594,
   "outputs": [
    {
     "data": {
      "text/plain": "<Figure size 640x480 with 1 Axes>",
      "image/png": "[encoded data removed]"
     },
     "metadata": {},
     "output_type": "display_data"
    }
   ],
   "source": [
    "plt.title('PR curve', fontsize=12)\n",
    "plt.xlabel('recall', fontsize=8)\n",
    "plt.ylabel('precision', fontsize=8)\n",
    "plt.plot(recalls, precisions, 'b', recalls, [1 - i for i in recalls], 'r')\n",
    "plt.xlim(0, 1.2)\n",
    "plt.ylim(0, 1.2)\n",
    "plt.show()"
   ],
   "metadata": {
    "collapsed": false,
    "ExecuteTime": {
     "end_time": "2023-12-18T08:48:52.502044800Z",
     "start_time": "2023-12-18T08:48:52.033440500Z"
    }
   },
   "id": "91d5089ad3511e60"
  },
  {
   "cell_type": "code",
   "execution_count": 2595,
   "outputs": [
    {
     "name": "stdout",
     "output_type": "stream",
     "text": [
      "auc_pr = 0.8929140017919411\n"
     ]
    }
   ],
   "source": [
    "print(f'auc_pr = {calculate_auc_pr(Y_test.values, prediction)}')"
   ],
   "metadata": {
    "collapsed": false,
    "ExecuteTime": {
     "end_time": "2023-12-18T08:48:52.530438800Z",
     "start_time": "2023-12-18T08:48:52.508585400Z"
    }
   },
   "id": "2f4365d9f3614343"
  },
  {
   "cell_type": "code",
   "execution_count": 2595,
   "outputs": [],
   "source": [],
   "metadata": {
    "collapsed": false,
    "ExecuteTime": {
     "end_time": "2023-12-18T08:48:52.639341300Z",
     "start_time": "2023-12-18T08:48:52.520403600Z"
    }
   },
   "id": "35d3c08154199402"
  }
 ],
 "metadata": {
  "kernelspec": {
   "display_name": "Python 3",
   "language": "python",
   "name": "python3"
  },
  "language_info": {
   "codemirror_mode": {
    "name": "ipython",
    "version": 2
   },
   "file_extension": ".py",
   "mimetype": "text/x-python",
   "name": "python",
   "nbconvert_exporter": "python",
   "pygments_lexer": "ipython2",
   "version": "2.7.6"
  }
 },
 "nbformat": 4,
 "nbformat_minor": 5
}
